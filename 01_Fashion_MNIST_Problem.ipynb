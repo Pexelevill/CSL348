{
  "cells": [
    {
      "cell_type": "markdown",
      "metadata": {
        "id": "view-in-github",
        "colab_type": "text"
      },
      "source": [
        "<a href=\"https://colab.research.google.com/github/Pexelevill/CSL348/blob/main/01_Fashion_MNIST_Problem.ipynb\" target=\"_parent\"><img src=\"https://colab.research.google.com/assets/colab-badge.svg\" alt=\"Open In Colab\"/></a>"
      ]
    },
    {
      "cell_type": "markdown",
      "metadata": {
        "id": "p44l1sUFiKb4"
      },
      "source": [
        "<img src=\"The-Northcap-University-NCU-logo.png\">"
      ]
    },
    {
      "cell_type": "markdown",
      "metadata": {
        "id": "fDvT6O4PiKb5"
      },
      "source": [
        "# Deep Learning for Image Classification Drill\n",
        "\n",
        "\n",
        "Welcome to your drill! Follow the instructions in bold below to complete the drill.\n",
        "\n",
        "------------\n",
        "\n",
        "## The Challenge\n",
        "\n",
        "**Your task is to build an image classifier with Keras and Convolutional Neural Networks for the Fashion MNIST dataset. This data set includes 10 labels of different clothing types with 28 by 28 *grayscale* images. There is a training set of 60,000 images and 10,000 test images.**\n",
        "\n",
        "    Label\tDescription\n",
        "    0\t    T-shirt/top\n",
        "    1\t    Trouser\n",
        "    2\t    Pullover\n",
        "    3\t    Dress\n",
        "    4\t    Coat\n",
        "    5\t    Sandal\n",
        "    6\t    Shirt\n",
        "    7\t    Sneaker\n",
        "    8\t    Bag\n",
        "    9\t    Ankle boot\n",
        "    \n",
        ""
      ]
    },
    {
      "cell_type": "markdown",
      "metadata": {
        "id": "1faLOrX9iKb5"
      },
      "source": [
        "## The Data\n",
        "\n",
        "**TASK 1: Run the code below to download the dataset using Keras.**"
      ]
    },
    {
      "cell_type": "code",
      "source": [
        "import numpy as np\n",
        "import tensorflow as tf\n",
        "from tensorflow.keras.datasets import fashion_mnist\n",
        "from tensorflow.keras.models import Sequential\n",
        "from tensorflow.keras.layers import Conv2D, MaxPooling2D, Flatten, Dense, Dropout\n",
        "from tensorflow.keras.utils import to_categorical\n",
        "import matplotlib.pyplot as plt"
      ],
      "metadata": {
        "id": "EBaVnAHTiQ0O"
      },
      "execution_count": 1,
      "outputs": []
    },
    {
      "cell_type": "code",
      "execution_count": 2,
      "metadata": {
        "colab": {
          "base_uri": "https://localhost:8080/"
        },
        "id": "vZbE8qNniKb5",
        "outputId": "24cce0ef-3881-4f17-bb06-17716abef301"
      },
      "outputs": [
        {
          "output_type": "stream",
          "name": "stdout",
          "text": [
            "Downloading data from https://storage.googleapis.com/tensorflow/tf-keras-datasets/train-labels-idx1-ubyte.gz\n",
            "29515/29515 [==============================] - 0s 0us/step\n",
            "Downloading data from https://storage.googleapis.com/tensorflow/tf-keras-datasets/train-images-idx3-ubyte.gz\n",
            "26421880/26421880 [==============================] - 0s 0us/step\n",
            "Downloading data from https://storage.googleapis.com/tensorflow/tf-keras-datasets/t10k-labels-idx1-ubyte.gz\n",
            "5148/5148 [==============================] - 0s 0us/step\n",
            "Downloading data from https://storage.googleapis.com/tensorflow/tf-keras-datasets/t10k-images-idx3-ubyte.gz\n",
            "4422102/4422102 [==============================] - 0s 0us/step\n"
          ]
        }
      ],
      "source": [
        "\n",
        "\n",
        "(x_train, y_train), (x_test, y_test) = fashion_mnist.load_data()"
      ]
    },
    {
      "cell_type": "markdown",
      "metadata": {
        "id": "cWI3tz9JiKb6"
      },
      "source": [
        "## Visualizing the Data\n",
        "\n",
        "**TASK 2: Use matplotlib to view an image from the data set. It can be any image from the data set.**"
      ]
    },
    {
      "cell_type": "code",
      "execution_count": 5,
      "metadata": {
        "colab": {
          "base_uri": "https://localhost:8080/",
          "height": 430
        },
        "id": "MnmHtf0AiKb6",
        "outputId": "24e3b0c0-2e79-416e-bbad-fe5582500f6e"
      },
      "outputs": [
        {
          "output_type": "display_data",
          "data": {
            "text/plain": [
              "<Figure size 640x480 with 1 Axes>"
            ],
            "image/png": "[encoded data removed]"
          },
          "metadata": {}
        }
      ],
      "source": [
        "import matplotlib.pyplot as plt\n",
        "import numpy as np\n",
        "\n",
        "\n",
        "image_data = np.random.rand(10, 10)\n",
        "\n",
        "\n",
        "plt.imshow(image_data, cmap='gray')\n",
        "plt.show()"
      ]
    },
    {
      "cell_type": "code",
      "execution_count": null,
      "metadata": {
        "id": "djxFG1rhiKb6"
      },
      "outputs": [],
      "source": []
    },
    {
      "cell_type": "markdown",
      "metadata": {
        "id": "JpUoYpMIiKb6"
      },
      "source": [
        "## Preprocessing the Data\n",
        "\n",
        "**TASK 3: Normalize the X train and X test data by dividing by the max value of the image arrays.**"
      ]
    },
    {
      "cell_type": "code",
      "source": [
        "from sklearn.model_selection import train_test_split"
      ],
      "metadata": {
        "id": "YeryFtMElUiT"
      },
      "execution_count": 8,
      "outputs": []
    },
    {
      "cell_type": "code",
      "source": [
        "X_train, X_test, y_train, y_test = train_test_split(X, y, test_size=0.2, random_state=42)"
      ],
      "metadata": {
        "id": "i3RcZJO0laf0"
      },
      "execution_count": 9,
      "outputs": []
    },
    {
      "cell_type": "code",
      "execution_count": 10,
      "metadata": {
        "colab": {
          "base_uri": "https://localhost:8080/"
        },
        "id": "MLF_I4-9iKb7",
        "outputId": "900e86b6-f067-4c26-f4f6-5b4f4f8f187b"
      },
      "outputs": [
        {
          "output_type": "stream",
          "name": "stdout",
          "text": [
            "Shape of X_train_normalized: (8, 10)\n",
            "Shape of X_test_normalized: (2, 10)\n"
          ]
        }
      ],
      "source": [
        "import numpy as np\n",
        "import matplotlib.pyplot as plt\n",
        "\n",
        "X = image_data\n",
        "\n",
        "num_samples = X.shape[0]\n",
        "y = np.random.randint(0, 2, size=num_samples)\n",
        "\n",
        "\n",
        "X_train, X_test, y_train, y_test = train_test_split(X, y, test_size=0.2, random_state=42)\n",
        "\n",
        "\n",
        "X_train_normalized = X_train / np.max(X_train)\n",
        "X_test_normalized = X_test / np.max(X_test)\n",
        "\n",
        "\n",
        "print(\"Shape of X_train_normalized:\", X_train_normalized.shape)\n",
        "print(\"Shape of X_test_normalized:\", X_test_normalized.shape)"
      ]
    },
    {
      "cell_type": "markdown",
      "metadata": {
        "id": "bs_T5_L3iKb7"
      },
      "source": [
        "**Task 4: Reshape the X arrays to include a 4 dimension of the single channel. Similar to what we did for the numbers MNIST data set.**"
      ]
    },
    {
      "cell_type": "code",
      "execution_count": 11,
      "metadata": {
        "id": "jSXn_vtTiKb7"
      },
      "outputs": [],
      "source": [
        "X = X.reshape(-1, 10, 10, 1)"
      ]
    },
    {
      "cell_type": "markdown",
      "metadata": {
        "id": "d05KnGmUiKb7"
      },
      "source": [
        "**TASK 5: Convert the y_train and y_test values to be one-hot encoded for categorical analysis by Keras.**"
      ]
    },
    {
      "cell_type": "code",
      "execution_count": 12,
      "metadata": {
        "colab": {
          "base_uri": "https://localhost:8080/"
        },
        "id": "seLuUs9riKb7",
        "outputId": "f2860e25-1d95-47df-8ceb-0ab2a134fad8"
      },
      "outputs": [
        {
          "output_type": "stream",
          "name": "stdout",
          "text": [
            "Unique values in y_train_mapped: [-1  0]\n",
            "Unique values in y_test_mapped: [0]\n"
          ]
        }
      ],
      "source": [
        "y_train_mapped = y_train - 1\n",
        "y_test_mapped = y_test - 1\n",
        "\n",
        "print(\"Unique values in y_train_mapped:\", np.unique(y_train_mapped))\n",
        "print(\"Unique values in y_test_mapped:\", np.unique(y_test_mapped))"
      ]
    },
    {
      "cell_type": "code",
      "source": [
        "from sklearn.preprocessing import LabelEncoder\n",
        "\n",
        "label_encoder = LabelEncoder()\n",
        "\n",
        "\n",
        "y_train_encoded = label_encoder.fit_transform(y_train)\n",
        "y_test_encoded = label_encoder.transform(y_test)\n",
        "\n",
        "\n",
        "print(\"Unique values in y_train_encoded:\", np.unique(y_train_encoded))\n",
        "print(\"Unique values in y_test_encoded:\", np.unique(y_test_encoded))"
      ],
      "metadata": {
        "colab": {
          "base_uri": "https://localhost:8080/"
        },
        "id": "IpRnUCW4l5N3",
        "outputId": "96fff711-474e-40a7-bf7d-b2b2b4c59c41"
      },
      "execution_count": 13,
      "outputs": [
        {
          "output_type": "stream",
          "name": "stdout",
          "text": [
            "Unique values in y_train_encoded: [0 1]\n",
            "Unique values in y_test_encoded: [1]\n"
          ]
        }
      ]
    },
    {
      "cell_type": "code",
      "source": [
        "y_train_adjusted = np.where(y_train > 1, 1, y_train)\n",
        "y_test_adjusted = np.where(y_test > 1, 1, y_test)"
      ],
      "metadata": {
        "id": "UHAJ0iGEl9hX"
      },
      "execution_count": 14,
      "outputs": []
    },
    {
      "cell_type": "code",
      "source": [
        "num_classes = 2\n",
        "y_train_one_hot = to_categorical(y_train_adjusted, num_classes=num_classes)\n",
        "y_test_one_hot = to_categorical(y_test_adjusted, num_classes=num_classes)\n",
        "\n",
        "print(\"Shape of y_train_one_hot:\", y_train_one_hot.shape)\n",
        "print(\"Shape of y_test_one_hot:\", y_test_one_hot.shape)"
      ],
      "metadata": {
        "colab": {
          "base_uri": "https://localhost:8080/"
        },
        "id": "j34POK1fl_hw",
        "outputId": "332ab8af-0f29-492b-ed25-c2c6e1016987"
      },
      "execution_count": 15,
      "outputs": [
        {
          "output_type": "stream",
          "name": "stdout",
          "text": [
            "Shape of y_train_one_hot: (8, 2)\n",
            "Shape of y_test_one_hot: (2, 2)\n"
          ]
        }
      ]
    },
    {
      "cell_type": "markdown",
      "metadata": {
        "id": "7K1X_b66iKb7"
      },
      "source": [
        "## Building the Model\n",
        "\n",
        "**TASK 5: Use Keras to create a model consisting of at least the following layers (but feel free to experiment):**\n",
        "\n",
        "* 2D Convolutional Layer, filters=32 and kernel_size=(4,4)\n",
        "* Pooling Layer where pool_size = (2,2)\n",
        "\n",
        "* Flatten Layer\n",
        "* Dense Layer (128 Neurons, but feel free to play around with this value), RELU activation\n",
        "\n",
        "* Final Dense Layer of 10 Neurons with a softmax activation\n",
        "\n",
        "**Then compile the model with these parameters: loss='categorical_crossentropy', optimizer='rmsprop', metrics=['accuracy']**"
      ]
    },
    {
      "cell_type": "code",
      "execution_count": 16,
      "metadata": {
        "colab": {
          "base_uri": "https://localhost:8080/"
        },
        "id": "hf9iYEETiKb7",
        "outputId": "9666335c-ba1f-4346-823c-2b7fb953d940"
      },
      "outputs": [
        {
          "output_type": "stream",
          "name": "stdout",
          "text": [
            "Model: \"sequential\"\n",
            "_________________________________________________________________\n",
            " Layer (type)                Output Shape              Param #   \n",
            "=================================================================\n",
            " conv2d (Conv2D)             (None, 7, 7, 32)          544       \n",
            "                                                                 \n",
            " max_pooling2d (MaxPooling2  (None, 3, 3, 32)          0         \n",
            " D)                                                              \n",
            "                                                                 \n",
            " flatten (Flatten)           (None, 288)               0         \n",
            "                                                                 \n",
            " dense (Dense)               (None, 128)               36992     \n",
            "                                                                 \n",
            " dense_1 (Dense)             (None, 10)                1290      \n",
            "                                                                 \n",
            "=================================================================\n",
            "Total params: 38826 (151.66 KB)\n",
            "Trainable params: 38826 (151.66 KB)\n",
            "Non-trainable params: 0 (0.00 Byte)\n",
            "_________________________________________________________________\n"
          ]
        }
      ],
      "source": [
        "model = Sequential()\n",
        "\n",
        "model.add(Conv2D(32, kernel_size=(4, 4), activation='relu', input_shape=(10, 10, 1)))\n",
        "model.add(MaxPooling2D(pool_size=(2, 2)))\n",
        "model.add(Flatten())\n",
        "model.add(Dense(128, activation='relu'))\n",
        "model.add(Dense(10, activation='softmax'))\n",
        "model.compile(loss='categorical_crossentropy', optimizer='rmsprop', metrics=['accuracy'])\n",
        "model.summary()"
      ]
    },
    {
      "cell_type": "markdown",
      "metadata": {
        "id": "77Bnorb-iKb7"
      },
      "source": [
        "### Training the Model\n",
        "**TASK 6: Train/Fit the model to the x_train set. Amount of epochs is up to you.**"
      ]
    },
    {
      "cell_type": "code",
      "source": [
        "print(f\"Shape of X_train: {X_train.shape}\")\n",
        "print(f\"Shape of X_test: {X_test.shape}\")"
      ],
      "metadata": {
        "colab": {
          "base_uri": "https://localhost:8080/"
        },
        "id": "o_2kQRcRmqsE",
        "outputId": "8a6918d4-76b5-4b6d-84b1-673227f0f8fa"
      },
      "execution_count": 19,
      "outputs": [
        {
          "output_type": "stream",
          "name": "stdout",
          "text": [
            "Shape of X_train: (8, 10)\n",
            "Shape of X_test: (2, 10)\n"
          ]
        }
      ]
    },
    {
      "cell_type": "code",
      "source": [
        "desired_shape = (-1, 10, 1, 10, 1)\n",
        "print(f\"Desired shape: {desired_shape}\")"
      ],
      "metadata": {
        "colab": {
          "base_uri": "https://localhost:8080/"
        },
        "id": "jtsqCax9mvpd",
        "outputId": "02ff4169-1a5c-4f91-da28-1dca646cdb9f"
      },
      "execution_count": 20,
      "outputs": [
        {
          "output_type": "stream",
          "name": "stdout",
          "text": [
            "Desired shape: (-1, 10, 1, 10, 1)\n"
          ]
        }
      ]
    },
    {
      "cell_type": "code",
      "source": [
        "total_elements_train = X_train.size\n",
        "total_elements_test = X_test.size\n",
        "print(f\"Total elements in X_train: {total_elements_train}\")\n",
        "print(f\"Total elements in X_test: {total_elements_test}\")"
      ],
      "metadata": {
        "colab": {
          "base_uri": "https://localhost:8080/"
        },
        "id": "HHyDYUe6myCU",
        "outputId": "703656fa-6d98-439c-cfb2-91381c70cec6"
      },
      "execution_count": 21,
      "outputs": [
        {
          "output_type": "stream",
          "name": "stdout",
          "text": [
            "Total elements in X_train: 80\n",
            "Total elements in X_test: 20\n"
          ]
        }
      ]
    },
    {
      "cell_type": "code",
      "source": [
        "total_elements_desired = desired_shape[0] * desired_shape[1] * desired_shape[2] * desired_shape[3] * desired_shape[4]\n",
        "print(f\"Total elements in desired shape: {total_elements_desired}\")"
      ],
      "metadata": {
        "colab": {
          "base_uri": "https://localhost:8080/"
        },
        "id": "rIlifCbTm84W",
        "outputId": "d6ed189e-ab15-4475-e77c-a7a01d96548b"
      },
      "execution_count": 23,
      "outputs": [
        {
          "output_type": "stream",
          "name": "stdout",
          "text": [
            "Total elements in desired shape: -100\n"
          ]
        }
      ]
    },
    {
      "cell_type": "code",
      "source": [
        "if total_elements_train != total_elements_desired or total_elements_test != total_elements_desired:\n",
        "    raise ValueError(\"Cannot reshape arrays to the desired shape\")"
      ],
      "metadata": {
        "colab": {
          "base_uri": "https://localhost:8080/",
          "height": 162
        },
        "id": "Rv2Bgn3InFG5",
        "outputId": "892c357c-60ef-467c-93c6-03122a266790"
      },
      "execution_count": 25,
      "outputs": [
        {
          "output_type": "error",
          "ename": "ValueError",
          "evalue": "Cannot reshape arrays to the desired shape",
          "traceback": [
            "\u001b[0;31m---------------------------------------------------------------------------\u001b[0m",
            "\u001b[0;31mValueError\u001b[0m                                Traceback (most recent call last)",
            "\u001b[0;32m<ipython-input-25-58ba793a3a70>\u001b[0m in \u001b[0;36m<cell line: 1>\u001b[0;34m()\u001b[0m\n\u001b[1;32m      1\u001b[0m \u001b[0;32mif\u001b[0m \u001b[0mtotal_elements_train\u001b[0m \u001b[0;34m!=\u001b[0m \u001b[0mtotal_elements_desired\u001b[0m \u001b[0;32mor\u001b[0m \u001b[0mtotal_elements_test\u001b[0m \u001b[0;34m!=\u001b[0m \u001b[0mtotal_elements_desired\u001b[0m\u001b[0;34m:\u001b[0m\u001b[0;34m\u001b[0m\u001b[0;34m\u001b[0m\u001b[0m\n\u001b[0;32m----> 2\u001b[0;31m     \u001b[0;32mraise\u001b[0m \u001b[0mValueError\u001b[0m\u001b[0;34m(\u001b[0m\u001b[0;34m\"Cannot reshape arrays to the desired shape\"\u001b[0m\u001b[0;34m)\u001b[0m\u001b[0;34m\u001b[0m\u001b[0;34m\u001b[0m\u001b[0m\n\u001b[0m",
            "\u001b[0;31mValueError\u001b[0m: Cannot reshape arrays to the desired shape"
          ]
        }
      ]
    },
    {
      "cell_type": "code",
      "execution_count": 22,
      "metadata": {
        "colab": {
          "base_uri": "https://localhost:8080/",
          "height": 216
        },
        "id": "rzxLmDvTiKb7",
        "outputId": "95b3471e-7551-49b9-f53c-890740c9def0"
      },
      "outputs": [
        {
          "output_type": "error",
          "ename": "ValueError",
          "evalue": "cannot reshape array of size 80 into shape (10,1,10,1)",
          "traceback": [
            "\u001b[0;31m---------------------------------------------------------------------------\u001b[0m",
            "\u001b[0;31mValueError\u001b[0m                                Traceback (most recent call last)",
            "\u001b[0;32m<ipython-input-22-ba6deea97f7a>\u001b[0m in \u001b[0;36m<cell line: 1>\u001b[0;34m()\u001b[0m\n\u001b[0;32m----> 1\u001b[0;31m \u001b[0mX_train_reshaped\u001b[0m \u001b[0;34m=\u001b[0m \u001b[0mX_train\u001b[0m\u001b[0;34m.\u001b[0m\u001b[0mreshape\u001b[0m\u001b[0;34m(\u001b[0m\u001b[0;34m-\u001b[0m\u001b[0;36m1\u001b[0m\u001b[0;34m,\u001b[0m \u001b[0;36m10\u001b[0m\u001b[0;34m,\u001b[0m \u001b[0;36m1\u001b[0m\u001b[0;34m,\u001b[0m \u001b[0;36m10\u001b[0m\u001b[0;34m,\u001b[0m \u001b[0;36m1\u001b[0m\u001b[0;34m)\u001b[0m\u001b[0;34m\u001b[0m\u001b[0;34m\u001b[0m\u001b[0m\n\u001b[0m\u001b[1;32m      2\u001b[0m \u001b[0mX_test_reshaped\u001b[0m \u001b[0;34m=\u001b[0m \u001b[0mX_test\u001b[0m\u001b[0;34m.\u001b[0m\u001b[0mreshape\u001b[0m\u001b[0;34m(\u001b[0m\u001b[0;34m-\u001b[0m\u001b[0;36m1\u001b[0m\u001b[0;34m,\u001b[0m \u001b[0;36m10\u001b[0m\u001b[0;34m,\u001b[0m \u001b[0;36m1\u001b[0m\u001b[0;34m,\u001b[0m \u001b[0;36m10\u001b[0m\u001b[0;34m,\u001b[0m \u001b[0;36m1\u001b[0m\u001b[0;34m)\u001b[0m\u001b[0;34m\u001b[0m\u001b[0;34m\u001b[0m\u001b[0m\n\u001b[1;32m      3\u001b[0m \u001b[0;34m\u001b[0m\u001b[0m\n\u001b[1;32m      4\u001b[0m \u001b[0;31m# Train the model on the reshaped input data\u001b[0m\u001b[0;34m\u001b[0m\u001b[0;34m\u001b[0m\u001b[0m\n\u001b[1;32m      5\u001b[0m \u001b[0mhistory\u001b[0m \u001b[0;34m=\u001b[0m \u001b[0mmodel\u001b[0m\u001b[0;34m.\u001b[0m\u001b[0mfit\u001b[0m\u001b[0;34m(\u001b[0m\u001b[0mX_train_reshaped\u001b[0m\u001b[0;34m,\u001b[0m \u001b[0my_train_one_hot\u001b[0m\u001b[0;34m,\u001b[0m \u001b[0mepochs\u001b[0m\u001b[0;34m=\u001b[0m\u001b[0;36m10\u001b[0m\u001b[0;34m,\u001b[0m \u001b[0mbatch_size\u001b[0m\u001b[0;34m=\u001b[0m\u001b[0;36m32\u001b[0m\u001b[0;34m,\u001b[0m \u001b[0mvalidation_split\u001b[0m\u001b[0;34m=\u001b[0m\u001b[0;36m0.2\u001b[0m\u001b[0;34m)\u001b[0m\u001b[0;34m\u001b[0m\u001b[0;34m\u001b[0m\u001b[0m\n",
            "\u001b[0;31mValueError\u001b[0m: cannot reshape array of size 80 into shape (10,1,10,1)"
          ]
        }
      ],
      "source": [
        "X_train_reshaped = X_train.reshape(-1, 10, 1, 10, 1)\n",
        "X_test_reshaped = X_test.reshape(-1, 10, 1, 10, 1)\n",
        "\n",
        "# Train the model on the reshaped input data\n",
        "history = model.fit(X_train_reshaped, y_train_one_hot, epochs=10, batch_size=32, validation_split=0.2)\n",
        "\n"
      ]
    },
    {
      "cell_type": "markdown",
      "metadata": {
        "id": "yGiqr7hMiKb7"
      },
      "source": [
        "### Evaluating the Model\n",
        "\n",
        "**TASK 7: Show the accuracy,precision,recall,f1-score the model achieved on the x_test data set. Keep in mind, there are quite a few ways to do this, but we recommend following the same procedure we showed in the MNIST lecture.**"
      ]
    },
    {
      "cell_type": "code",
      "execution_count": null,
      "metadata": {
        "id": "dOqhyZAViKb7",
        "outputId": "a3f973d0-0f48-4efd-c86a-32a2510d192a"
      },
      "outputs": [
        {
          "data": {
            "text/plain": [
              "['loss', 'acc']"
            ]
          },
          "execution_count": 22,
          "metadata": {},
          "output_type": "execute_result"
        }
      ],
      "source": []
    },
    {
      "cell_type": "code",
      "execution_count": null,
      "metadata": {
        "id": "PLQuB6g7iKb8"
      },
      "outputs": [],
      "source": []
    },
    {
      "cell_type": "code",
      "execution_count": null,
      "metadata": {
        "id": "uZRtWUJFiKb8"
      },
      "outputs": [],
      "source": []
    },
    {
      "cell_type": "code",
      "execution_count": null,
      "metadata": {
        "id": "DeRlSK73iKb8"
      },
      "outputs": [],
      "source": []
    },
    {
      "cell_type": "code",
      "execution_count": null,
      "metadata": {
        "id": "1IGotqiniKb8"
      },
      "outputs": [],
      "source": []
    },
    {
      "cell_type": "code",
      "execution_count": null,
      "metadata": {
        "id": "vgs6tSO3iKb8"
      },
      "outputs": [],
      "source": []
    },
    {
      "cell_type": "code",
      "execution_count": null,
      "metadata": {
        "id": "mmcMkJ6XiKb8"
      },
      "outputs": [],
      "source": []
    },
    {
      "cell_type": "code",
      "execution_count": null,
      "metadata": {
        "id": "8zaMkBSjiKb8"
      },
      "outputs": [],
      "source": []
    },
    {
      "cell_type": "code",
      "execution_count": null,
      "metadata": {
        "scrolled": true,
        "id": "uzaTjli3iKb8",
        "outputId": "a2c6933b-e061-456e-dc5e-0ee33b651c71"
      },
      "outputs": [
        {
          "name": "stdout",
          "output_type": "stream",
          "text": [
            "             precision    recall  f1-score   support\n",
            "\n",
            "          0       0.86      0.85      0.85      1000\n",
            "          1       0.99      0.97      0.98      1000\n",
            "          2       0.88      0.83      0.85      1000\n",
            "          3       0.91      0.91      0.91      1000\n",
            "          4       0.83      0.88      0.85      1000\n",
            "          5       0.97      0.98      0.98      1000\n",
            "          6       0.73      0.76      0.74      1000\n",
            "          7       0.95      0.97      0.96      1000\n",
            "          8       0.99      0.97      0.98      1000\n",
            "          9       0.98      0.94      0.96      1000\n",
            "\n",
            "avg / total       0.91      0.91      0.91     10000\n",
            "\n"
          ]
        }
      ],
      "source": []
    },
    {
      "cell_type": "markdown",
      "metadata": {
        "id": "pRaNU3_TiKb8"
      },
      "source": [
        "# Great Job!"
      ]
    }
  ],
  "metadata": {
    "kernelspec": {
      "display_name": "Python 3",
      "language": "python",
      "name": "python3"
    },
    "language_info": {
      "codemirror_mode": {
        "name": "ipython",
        "version": 3
      },
      "file_extension": ".py",
      "mimetype": "text/x-python",
      "name": "python",
      "nbconvert_exporter": "python",
      "pygments_lexer": "ipython3",
      "version": "3.6.5"
    },
    "colab": {
      "provenance": [],
      "include_colab_link": true
    }
  },
  "nbformat": 4,
  "nbformat_minor": 0
}
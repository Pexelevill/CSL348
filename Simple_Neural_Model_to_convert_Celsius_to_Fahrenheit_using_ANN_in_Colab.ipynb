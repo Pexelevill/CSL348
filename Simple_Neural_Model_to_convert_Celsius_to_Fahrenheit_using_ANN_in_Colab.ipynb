{
  "nbformat": 4,
  "nbformat_minor": 0,
  "metadata": {
    "colab": {
      "name": "Simple Neural Model to convert Celsius to Fahrenheit using ANN in Colab.ipynb",
      "provenance": [],
      "include_colab_link": true
    },
    "kernelspec": {
      "name": "python3",
      "display_name": "Python 3"
    }
  },
  "cells": [
    {
      "cell_type": "markdown",
      "metadata": {
        "id": "view-in-github",
        "colab_type": "text"
      },
      "source": [
        "<a href=\"https://colab.research.google.com/github/Pexelevill/CSL348/blob/main/Simple_Neural_Model_to_convert_Celsius_to_Fahrenheit_using_ANN_in_Colab.ipynb\" target=\"_parent\"><img src=\"https://colab.research.google.com/assets/colab-badge.svg\" alt=\"Open In Colab\"/></a>"
      ]
    },
    {
      "cell_type": "markdown",
      "metadata": {
        "id": "kUW8lIjVCIb8"
      },
      "source": [
        "## STEP#0: Import Libraries"
      ]
    },
    {
      "cell_type": "code",
      "metadata": {
        "id": "-y32g6y6CHHb"
      },
      "source": [
        "# !pip install tensorflow-gpu==2.0.0.alpha0"
      ],
      "execution_count": 3,
      "outputs": []
    },
    {
      "cell_type": "code",
      "metadata": {
        "id": "a8ZAvBbDosHK",
        "colab": {
          "base_uri": "https://localhost:8080/"
        },
        "outputId": "96af12bb-4c56-45ad-b6f0-4a5b0da3b89b"
      },
      "source": [
        "#Installing compatible tensorflow\n",
        "!pip install tensorflow\n",
        "try:\n",
        "  %tensorflow_version 1.x\n",
        "except Exception:\n",
        "  pass"
      ],
      "execution_count": 4,
      "outputs": [
        {
          "output_type": "stream",
          "name": "stdout",
          "text": [
            "Requirement already satisfied: tensorflow in /usr/local/lib/python3.10/dist-packages (2.15.0)\n",
            "Requirement already satisfied: absl-py>=1.0.0 in /usr/local/lib/python3.10/dist-packages (from tensorflow) (1.4.0)\n",
            "Requirement already satisfied: astunparse>=1.6.0 in /usr/local/lib/python3.10/dist-packages (from tensorflow) (1.6.3)\n",
            "Requirement already satisfied: flatbuffers>=23.5.26 in /usr/local/lib/python3.10/dist-packages (from tensorflow) (23.5.26)\n",
            "Requirement already satisfied: gast!=0.5.0,!=0.5.1,!=0.5.2,>=0.2.1 in /usr/local/lib/python3.10/dist-packages (from tensorflow) (0.5.4)\n",
            "Requirement already satisfied: google-pasta>=0.1.1 in /usr/local/lib/python3.10/dist-packages (from tensorflow) (0.2.0)\n",
            "Requirement already satisfied: h5py>=2.9.0 in /usr/local/lib/python3.10/dist-packages (from tensorflow) (3.9.0)\n",
            "Requirement already satisfied: libclang>=13.0.0 in /usr/local/lib/python3.10/dist-packages (from tensorflow) (16.0.6)\n",
            "Requirement already satisfied: ml-dtypes~=0.2.0 in /usr/local/lib/python3.10/dist-packages (from tensorflow) (0.2.0)\n",
            "Requirement already satisfied: numpy<2.0.0,>=1.23.5 in /usr/local/lib/python3.10/dist-packages (from tensorflow) (1.25.2)\n",
            "Requirement already satisfied: opt-einsum>=2.3.2 in /usr/local/lib/python3.10/dist-packages (from tensorflow) (3.3.0)\n",
            "Requirement already satisfied: packaging in /usr/local/lib/python3.10/dist-packages (from tensorflow) (23.2)\n",
            "Requirement already satisfied: protobuf!=4.21.0,!=4.21.1,!=4.21.2,!=4.21.3,!=4.21.4,!=4.21.5,<5.0.0dev,>=3.20.3 in /usr/local/lib/python3.10/dist-packages (from tensorflow) (3.20.3)\n",
            "Requirement already satisfied: setuptools in /usr/local/lib/python3.10/dist-packages (from tensorflow) (67.7.2)\n",
            "Requirement already satisfied: six>=1.12.0 in /usr/local/lib/python3.10/dist-packages (from tensorflow) (1.16.0)\n",
            "Requirement already satisfied: termcolor>=1.1.0 in /usr/local/lib/python3.10/dist-packages (from tensorflow) (2.4.0)\n",
            "Requirement already satisfied: typing-extensions>=3.6.6 in /usr/local/lib/python3.10/dist-packages (from tensorflow) (4.9.0)\n",
            "Requirement already satisfied: wrapt<1.15,>=1.11.0 in /usr/local/lib/python3.10/dist-packages (from tensorflow) (1.14.1)\n",
            "Requirement already satisfied: tensorflow-io-gcs-filesystem>=0.23.1 in /usr/local/lib/python3.10/dist-packages (from tensorflow) (0.36.0)\n",
            "Requirement already satisfied: grpcio<2.0,>=1.24.3 in /usr/local/lib/python3.10/dist-packages (from tensorflow) (1.60.1)\n",
            "Requirement already satisfied: tensorboard<2.16,>=2.15 in /usr/local/lib/python3.10/dist-packages (from tensorflow) (2.15.2)\n",
            "Requirement already satisfied: tensorflow-estimator<2.16,>=2.15.0 in /usr/local/lib/python3.10/dist-packages (from tensorflow) (2.15.0)\n",
            "Requirement already satisfied: keras<2.16,>=2.15.0 in /usr/local/lib/python3.10/dist-packages (from tensorflow) (2.15.0)\n",
            "Requirement already satisfied: wheel<1.0,>=0.23.0 in /usr/local/lib/python3.10/dist-packages (from astunparse>=1.6.0->tensorflow) (0.42.0)\n",
            "Requirement already satisfied: google-auth<3,>=1.6.3 in /usr/local/lib/python3.10/dist-packages (from tensorboard<2.16,>=2.15->tensorflow) (2.27.0)\n",
            "Requirement already satisfied: google-auth-oauthlib<2,>=0.5 in /usr/local/lib/python3.10/dist-packages (from tensorboard<2.16,>=2.15->tensorflow) (1.2.0)\n",
            "Requirement already satisfied: markdown>=2.6.8 in /usr/local/lib/python3.10/dist-packages (from tensorboard<2.16,>=2.15->tensorflow) (3.5.2)\n",
            "Requirement already satisfied: requests<3,>=2.21.0 in /usr/local/lib/python3.10/dist-packages (from tensorboard<2.16,>=2.15->tensorflow) (2.31.0)\n",
            "Requirement already satisfied: tensorboard-data-server<0.8.0,>=0.7.0 in /usr/local/lib/python3.10/dist-packages (from tensorboard<2.16,>=2.15->tensorflow) (0.7.2)\n",
            "Requirement already satisfied: werkzeug>=1.0.1 in /usr/local/lib/python3.10/dist-packages (from tensorboard<2.16,>=2.15->tensorflow) (3.0.1)\n",
            "Requirement already satisfied: cachetools<6.0,>=2.0.0 in /usr/local/lib/python3.10/dist-packages (from google-auth<3,>=1.6.3->tensorboard<2.16,>=2.15->tensorflow) (5.3.2)\n",
            "Requirement already satisfied: pyasn1-modules>=0.2.1 in /usr/local/lib/python3.10/dist-packages (from google-auth<3,>=1.6.3->tensorboard<2.16,>=2.15->tensorflow) (0.3.0)\n",
            "Requirement already satisfied: rsa<5,>=3.1.4 in /usr/local/lib/python3.10/dist-packages (from google-auth<3,>=1.6.3->tensorboard<2.16,>=2.15->tensorflow) (4.9)\n",
            "Requirement already satisfied: requests-oauthlib>=0.7.0 in /usr/local/lib/python3.10/dist-packages (from google-auth-oauthlib<2,>=0.5->tensorboard<2.16,>=2.15->tensorflow) (1.3.1)\n",
            "Requirement already satisfied: charset-normalizer<4,>=2 in /usr/local/lib/python3.10/dist-packages (from requests<3,>=2.21.0->tensorboard<2.16,>=2.15->tensorflow) (3.3.2)\n",
            "Requirement already satisfied: idna<4,>=2.5 in /usr/local/lib/python3.10/dist-packages (from requests<3,>=2.21.0->tensorboard<2.16,>=2.15->tensorflow) (3.6)\n",
            "Requirement already satisfied: urllib3<3,>=1.21.1 in /usr/local/lib/python3.10/dist-packages (from requests<3,>=2.21.0->tensorboard<2.16,>=2.15->tensorflow) (2.0.7)\n",
            "Requirement already satisfied: certifi>=2017.4.17 in /usr/local/lib/python3.10/dist-packages (from requests<3,>=2.21.0->tensorboard<2.16,>=2.15->tensorflow) (2024.2.2)\n",
            "Requirement already satisfied: MarkupSafe>=2.1.1 in /usr/local/lib/python3.10/dist-packages (from werkzeug>=1.0.1->tensorboard<2.16,>=2.15->tensorflow) (2.1.5)\n",
            "Requirement already satisfied: pyasn1<0.6.0,>=0.4.6 in /usr/local/lib/python3.10/dist-packages (from pyasn1-modules>=0.2.1->google-auth<3,>=1.6.3->tensorboard<2.16,>=2.15->tensorflow) (0.5.1)\n",
            "Requirement already satisfied: oauthlib>=3.0.0 in /usr/local/lib/python3.10/dist-packages (from requests-oauthlib>=0.7.0->google-auth-oauthlib<2,>=0.5->tensorboard<2.16,>=2.15->tensorflow) (3.2.2)\n"
          ]
        }
      ]
    },
    {
      "cell_type": "code",
      "metadata": {
        "id": "3XKxhNdYC1Sh"
      },
      "source": [
        "#Importing required libraries for data processing and visualization\n",
        "\n",
        "import tensorflow as tf\n",
        "import pandas as pd\n",
        "import seaborn as sns  # to plot images and statical version of data\n",
        "import numpy as np\n",
        "import matplotlib.pyplot as plt\n"
      ],
      "execution_count": 5,
      "outputs": []
    },
    {
      "cell_type": "code",
      "metadata": {
        "id": "ZDDqpc2b3dUj",
        "colab": {
          "base_uri": "https://localhost:8080/"
        },
        "outputId": "ad4d2ea3-e9b3-495a-a9eb-d209475628f3"
      },
      "source": [
        "print(tf.__version__)"
      ],
      "execution_count": 6,
      "outputs": [
        {
          "output_type": "stream",
          "name": "stdout",
          "text": [
            "2.15.0\n"
          ]
        }
      ]
    },
    {
      "cell_type": "markdown",
      "metadata": {
        "id": "mPv8gmXDCt3z"
      },
      "source": [
        "## STEP #1: Import *Dataset*"
      ]
    },
    {
      "cell_type": "code",
      "metadata": {
        "id": "BFRdf793Cz-2",
        "colab": {
          "base_uri": "https://localhost:8080/"
        },
        "outputId": "e697ca1c-bb53-4f01-fcae-4f04dc86d86f"
      },
      "source": [
        "#Mouting colab with the drive\n",
        "\n",
        "from google.colab import drive\n",
        "drive.mount('/content/drive')"
      ],
      "execution_count": 8,
      "outputs": [
        {
          "output_type": "stream",
          "name": "stdout",
          "text": [
            "Mounted at /content/drive\n"
          ]
        }
      ]
    },
    {
      "cell_type": "code",
      "metadata": {
        "id": "z3DuF3csDVsC"
      },
      "source": [
        "#Importing dataset from drive\n",
        "\n",
        "temp_df = pd.read_csv('/content/drive/MyDrive/Colab Notebooks/Celsius to Fahrenheit .csv')"
      ],
      "execution_count": 16,
      "outputs": []
    },
    {
      "cell_type": "code",
      "metadata": {
        "id": "E8yWe1SxEqp8",
        "colab": {
          "base_uri": "https://localhost:8080/",
          "height": 206
        },
        "outputId": "951a8166-04f5-4b12-8312-69746e75b03f"
      },
      "source": [
        "temp_df.head() #showing top rows"
      ],
      "execution_count": 17,
      "outputs": [
        {
          "output_type": "execute_result",
          "data": {
            "text/plain": [
              "   Celsius  Fahrenheit\n",
              "0      -50       -58.0\n",
              "1      -40       -40.0\n",
              "2      -30       -22.0\n",
              "3      -20        -4.0\n",
              "4      -10        14.0"
            ],
            "text/html": [
              "\n",
              "  <div id=\"df-218696a4-e05a-4fdc-a9d6-d974c8451d2b\" class=\"colab-df-container\">\n",
              "    <div>\n",
              "<style scoped>\n",
              "    .dataframe tbody tr th:only-of-type {\n",
              "        vertical-align: middle;\n",
              "    }\n",
              "\n",
              "    .dataframe tbody tr th {\n",
              "        vertical-align: top;\n",
              "    }\n",
              "\n",
              "    .dataframe thead th {\n",
              "        text-align: right;\n",
              "    }\n",
              "</style>\n",
              "<table border=\"1\" class=\"dataframe\">\n",
              "  <thead>\n",
              "    <tr style=\"text-align: right;\">\n",
              "      <th></th>\n",
              "      <th>Celsius</th>\n",
              "      <th>Fahrenheit</th>\n",
              "    </tr>\n",
              "  </thead>\n",
              "  <tbody>\n",
              "    <tr>\n",
              "      <th>0</th>\n",
              "      <td>-50</td>\n",
              "      <td>-58.0</td>\n",
              "    </tr>\n",
              "    <tr>\n",
              "      <th>1</th>\n",
              "      <td>-40</td>\n",
              "      <td>-40.0</td>\n",
              "    </tr>\n",
              "    <tr>\n",
              "      <th>2</th>\n",
              "      <td>-30</td>\n",
              "      <td>-22.0</td>\n",
              "    </tr>\n",
              "    <tr>\n",
              "      <th>3</th>\n",
              "      <td>-20</td>\n",
              "      <td>-4.0</td>\n",
              "    </tr>\n",
              "    <tr>\n",
              "      <th>4</th>\n",
              "      <td>-10</td>\n",
              "      <td>14.0</td>\n",
              "    </tr>\n",
              "  </tbody>\n",
              "</table>\n",
              "</div>\n",
              "    <div class=\"colab-df-buttons\">\n",
              "\n",
              "  <div class=\"colab-df-container\">\n",
              "    <button class=\"colab-df-convert\" onclick=\"convertToInteractive('df-218696a4-e05a-4fdc-a9d6-d974c8451d2b')\"\n",
              "            title=\"Convert this dataframe to an interactive table.\"\n",
              "            style=\"display:none;\">\n",
              "\n",
              "  <svg xmlns=\"http://www.w3.org/2000/svg\" height=\"24px\" viewBox=\"0 -960 960 960\">\n",
              "    <path d=\"M120-120v-720h720v720H120Zm60-500h600v-160H180v160Zm220 220h160v-160H400v160Zm0 220h160v-160H400v160ZM180-400h160v-160H180v160Zm440 0h160v-160H620v160ZM180-180h160v-160H180v160Zm440 0h160v-160H620v160Z\"/>\n",
              "  </svg>\n",
              "    </button>\n",
              "\n",
              "  <style>\n",
              "    .colab-df-container {\n",
              "      display:flex;\n",
              "      gap: 12px;\n",
              "    }\n",
              "\n",
              "    .colab-df-convert {\n",
              "      background-color: #E8F0FE;\n",
              "      border: none;\n",
              "      border-radius: 50%;\n",
              "      cursor: pointer;\n",
              "      display: none;\n",
              "      fill: #1967D2;\n",
              "      height: 32px;\n",
              "      padding: 0 0 0 0;\n",
              "      width: 32px;\n",
              "    }\n",
              "\n",
              "    .colab-df-convert:hover {\n",
              "      background-color: #E2EBFA;\n",
              "      box-shadow: 0px 1px 2px rgba(60, 64, 67, 0.3), 0px 1px 3px 1px rgba(60, 64, 67, 0.15);\n",
              "      fill: #174EA6;\n",
              "    }\n",
              "\n",
              "    .colab-df-buttons div {\n",
              "      margin-bottom: 4px;\n",
              "    }\n",
              "\n",
              "    [theme=dark] .colab-df-convert {\n",
              "      background-color: #3B4455;\n",
              "      fill: #D2E3FC;\n",
              "    }\n",
              "\n",
              "    [theme=dark] .colab-df-convert:hover {\n",
              "      background-color: #434B5C;\n",
              "      box-shadow: 0px 1px 3px 1px rgba(0, 0, 0, 0.15);\n",
              "      filter: drop-shadow(0px 1px 2px rgba(0, 0, 0, 0.3));\n",
              "      fill: #FFFFFF;\n",
              "    }\n",
              "  </style>\n",
              "\n",
              "    <script>\n",
              "      const buttonEl =\n",
              "        document.querySelector('#df-218696a4-e05a-4fdc-a9d6-d974c8451d2b button.colab-df-convert');\n",
              "      buttonEl.style.display =\n",
              "        google.colab.kernel.accessAllowed ? 'block' : 'none';\n",
              "\n",
              "      async function convertToInteractive(key) {\n",
              "        const element = document.querySelector('#df-218696a4-e05a-4fdc-a9d6-d974c8451d2b');\n",
              "        const dataTable =\n",
              "          await google.colab.kernel.invokeFunction('convertToInteractive',\n",
              "                                                    [key], {});\n",
              "        if (!dataTable) return;\n",
              "\n",
              "        const docLinkHtml = 'Like what you see? Visit the ' +\n",
              "          '<a target=\"_blank\" href=https://colab.research.google.com/notebooks/data_table.ipynb>data table notebook</a>'\n",
              "          + ' to learn more about interactive tables.';\n",
              "        element.innerHTML = '';\n",
              "        dataTable['output_type'] = 'display_data';\n",
              "        await google.colab.output.renderOutput(dataTable, element);\n",
              "        const docLink = document.createElement('div');\n",
              "        docLink.innerHTML = docLinkHtml;\n",
              "        element.appendChild(docLink);\n",
              "      }\n",
              "    </script>\n",
              "  </div>\n",
              "\n",
              "\n",
              "<div id=\"df-0d6e815f-6d72-4377-bd03-41a4e5feb3e8\">\n",
              "  <button class=\"colab-df-quickchart\" onclick=\"quickchart('df-0d6e815f-6d72-4377-bd03-41a4e5feb3e8')\"\n",
              "            title=\"Suggest charts\"\n",
              "            style=\"display:none;\">\n",
              "\n",
              "<svg xmlns=\"http://www.w3.org/2000/svg\" height=\"24px\"viewBox=\"0 0 24 24\"\n",
              "     width=\"24px\">\n",
              "    <g>\n",
              "        <path d=\"M19 3H5c-1.1 0-2 .9-2 2v14c0 1.1.9 2 2 2h14c1.1 0 2-.9 2-2V5c0-1.1-.9-2-2-2zM9 17H7v-7h2v7zm4 0h-2V7h2v10zm4 0h-2v-4h2v4z\"/>\n",
              "    </g>\n",
              "</svg>\n",
              "  </button>\n",
              "\n",
              "<style>\n",
              "  .colab-df-quickchart {\n",
              "      --bg-color: #E8F0FE;\n",
              "      --fill-color: #1967D2;\n",
              "      --hover-bg-color: #E2EBFA;\n",
              "      --hover-fill-color: #174EA6;\n",
              "      --disabled-fill-color: #AAA;\n",
              "      --disabled-bg-color: #DDD;\n",
              "  }\n",
              "\n",
              "  [theme=dark] .colab-df-quickchart {\n",
              "      --bg-color: #3B4455;\n",
              "      --fill-color: #D2E3FC;\n",
              "      --hover-bg-color: #434B5C;\n",
              "      --hover-fill-color: #FFFFFF;\n",
              "      --disabled-bg-color: #3B4455;\n",
              "      --disabled-fill-color: #666;\n",
              "  }\n",
              "\n",
              "  .colab-df-quickchart {\n",
              "    background-color: var(--bg-color);\n",
              "    border: none;\n",
              "    border-radius: 50%;\n",
              "    cursor: pointer;\n",
              "    display: none;\n",
              "    fill: var(--fill-color);\n",
              "    height: 32px;\n",
              "    padding: 0;\n",
              "    width: 32px;\n",
              "  }\n",
              "\n",
              "  .colab-df-quickchart:hover {\n",
              "    background-color: var(--hover-bg-color);\n",
              "    box-shadow: 0 1px 2px rgba(60, 64, 67, 0.3), 0 1px 3px 1px rgba(60, 64, 67, 0.15);\n",
              "    fill: var(--button-hover-fill-color);\n",
              "  }\n",
              "\n",
              "  .colab-df-quickchart-complete:disabled,\n",
              "  .colab-df-quickchart-complete:disabled:hover {\n",
              "    background-color: var(--disabled-bg-color);\n",
              "    fill: var(--disabled-fill-color);\n",
              "    box-shadow: none;\n",
              "  }\n",
              "\n",
              "  .colab-df-spinner {\n",
              "    border: 2px solid var(--fill-color);\n",
              "    border-color: transparent;\n",
              "    border-bottom-color: var(--fill-color);\n",
              "    animation:\n",
              "      spin 1s steps(1) infinite;\n",
              "  }\n",
              "\n",
              "  @keyframes spin {\n",
              "    0% {\n",
              "      border-color: transparent;\n",
              "      border-bottom-color: var(--fill-color);\n",
              "      border-left-color: var(--fill-color);\n",
              "    }\n",
              "    20% {\n",
              "      border-color: transparent;\n",
              "      border-left-color: var(--fill-color);\n",
              "      border-top-color: var(--fill-color);\n",
              "    }\n",
              "    30% {\n",
              "      border-color: transparent;\n",
              "      border-left-color: var(--fill-color);\n",
              "      border-top-color: var(--fill-color);\n",
              "      border-right-color: var(--fill-color);\n",
              "    }\n",
              "    40% {\n",
              "      border-color: transparent;\n",
              "      border-right-color: var(--fill-color);\n",
              "      border-top-color: var(--fill-color);\n",
              "    }\n",
              "    60% {\n",
              "      border-color: transparent;\n",
              "      border-right-color: var(--fill-color);\n",
              "    }\n",
              "    80% {\n",
              "      border-color: transparent;\n",
              "      border-right-color: var(--fill-color);\n",
              "      border-bottom-color: var(--fill-color);\n",
              "    }\n",
              "    90% {\n",
              "      border-color: transparent;\n",
              "      border-bottom-color: var(--fill-color);\n",
              "    }\n",
              "  }\n",
              "</style>\n",
              "\n",
              "  <script>\n",
              "    async function quickchart(key) {\n",
              "      const quickchartButtonEl =\n",
              "        document.querySelector('#' + key + ' button');\n",
              "      quickchartButtonEl.disabled = true;  // To prevent multiple clicks.\n",
              "      quickchartButtonEl.classList.add('colab-df-spinner');\n",
              "      try {\n",
              "        const charts = await google.colab.kernel.invokeFunction(\n",
              "            'suggestCharts', [key], {});\n",
              "      } catch (error) {\n",
              "        console.error('Error during call to suggestCharts:', error);\n",
              "      }\n",
              "      quickchartButtonEl.classList.remove('colab-df-spinner');\n",
              "      quickchartButtonEl.classList.add('colab-df-quickchart-complete');\n",
              "    }\n",
              "    (() => {\n",
              "      let quickchartButtonEl =\n",
              "        document.querySelector('#df-0d6e815f-6d72-4377-bd03-41a4e5feb3e8 button');\n",
              "      quickchartButtonEl.style.display =\n",
              "        google.colab.kernel.accessAllowed ? 'block' : 'none';\n",
              "    })();\n",
              "  </script>\n",
              "</div>\n",
              "\n",
              "    </div>\n",
              "  </div>\n"
            ],
            "application/vnd.google.colaboratory.intrinsic+json": {
              "type": "dataframe",
              "variable_name": "temp_df",
              "summary": "{\n  \"name\": \"temp_df\",\n  \"rows\": 30,\n  \"fields\": [\n    {\n      \"column\": \"Celsius\",\n      \"properties\": {\n        \"dtype\": \"number\",\n        \"std\": 22,\n        \"min\": -50,\n        \"max\": 60,\n        \"samples\": [\n          40,\n          1,\n          9\n        ],\n        \"num_unique_values\": 30,\n        \"semantic_type\": \"\",\n        \"description\": \"\"\n      }\n    },\n    {\n      \"column\": \"Fahrenheit\",\n      \"properties\": {\n        \"dtype\": \"number\",\n        \"std\": 41.00546641439491,\n        \"min\": -58.0,\n        \"max\": 140.0,\n        \"samples\": [\n          104.0,\n          33.8,\n          48.2\n        ],\n        \"num_unique_values\": 30,\n        \"semantic_type\": \"\",\n        \"description\": \"\"\n      }\n    }\n  ]\n}"
            }
          },
          "metadata": {},
          "execution_count": 17
        }
      ]
    },
    {
      "cell_type": "code",
      "metadata": {
        "id": "2GY3ZDUMEzHK",
        "colab": {
          "base_uri": "https://localhost:8080/",
          "height": 206
        },
        "outputId": "eedc8255-0ae2-455f-85a9-6491e93900a6"
      },
      "source": [
        "temp_df.tail(5) #last 5 rows of the dataset"
      ],
      "execution_count": 18,
      "outputs": [
        {
          "output_type": "execute_result",
          "data": {
            "text/plain": [
              "    Celsius  Fahrenheit\n",
              "25       20        68.0\n",
              "26       30        86.0\n",
              "27       40       104.0\n",
              "28       50       122.0\n",
              "29       60       140.0"
            ],
            "text/html": [
              "\n",
              "  <div id=\"df-d814b9c1-d58e-4c0f-920f-9e82066ccec1\" class=\"colab-df-container\">\n",
              "    <div>\n",
              "<style scoped>\n",
              "    .dataframe tbody tr th:only-of-type {\n",
              "        vertical-align: middle;\n",
              "    }\n",
              "\n",
              "    .dataframe tbody tr th {\n",
              "        vertical-align: top;\n",
              "    }\n",
              "\n",
              "    .dataframe thead th {\n",
              "        text-align: right;\n",
              "    }\n",
              "</style>\n",
              "<table border=\"1\" class=\"dataframe\">\n",
              "  <thead>\n",
              "    <tr style=\"text-align: right;\">\n",
              "      <th></th>\n",
              "      <th>Celsius</th>\n",
              "      <th>Fahrenheit</th>\n",
              "    </tr>\n",
              "  </thead>\n",
              "  <tbody>\n",
              "    <tr>\n",
              "      <th>25</th>\n",
              "      <td>20</td>\n",
              "      <td>68.0</td>\n",
              "    </tr>\n",
              "    <tr>\n",
              "      <th>26</th>\n",
              "      <td>30</td>\n",
              "      <td>86.0</td>\n",
              "    </tr>\n",
              "    <tr>\n",
              "      <th>27</th>\n",
              "      <td>40</td>\n",
              "      <td>104.0</td>\n",
              "    </tr>\n",
              "    <tr>\n",
              "      <th>28</th>\n",
              "      <td>50</td>\n",
              "      <td>122.0</td>\n",
              "    </tr>\n",
              "    <tr>\n",
              "      <th>29</th>\n",
              "      <td>60</td>\n",
              "      <td>140.0</td>\n",
              "    </tr>\n",
              "  </tbody>\n",
              "</table>\n",
              "</div>\n",
              "    <div class=\"colab-df-buttons\">\n",
              "\n",
              "  <div class=\"colab-df-container\">\n",
              "    <button class=\"colab-df-convert\" onclick=\"convertToInteractive('df-d814b9c1-d58e-4c0f-920f-9e82066ccec1')\"\n",
              "            title=\"Convert this dataframe to an interactive table.\"\n",
              "            style=\"display:none;\">\n",
              "\n",
              "  <svg xmlns=\"http://www.w3.org/2000/svg\" height=\"24px\" viewBox=\"0 -960 960 960\">\n",
              "    <path d=\"M120-120v-720h720v720H120Zm60-500h600v-160H180v160Zm220 220h160v-160H400v160Zm0 220h160v-160H400v160ZM180-400h160v-160H180v160Zm440 0h160v-160H620v160ZM180-180h160v-160H180v160Zm440 0h160v-160H620v160Z\"/>\n",
              "  </svg>\n",
              "    </button>\n",
              "\n",
              "  <style>\n",
              "    .colab-df-container {\n",
              "      display:flex;\n",
              "      gap: 12px;\n",
              "    }\n",
              "\n",
              "    .colab-df-convert {\n",
              "      background-color: #E8F0FE;\n",
              "      border: none;\n",
              "      border-radius: 50%;\n",
              "      cursor: pointer;\n",
              "      display: none;\n",
              "      fill: #1967D2;\n",
              "      height: 32px;\n",
              "      padding: 0 0 0 0;\n",
              "      width: 32px;\n",
              "    }\n",
              "\n",
              "    .colab-df-convert:hover {\n",
              "      background-color: #E2EBFA;\n",
              "      box-shadow: 0px 1px 2px rgba(60, 64, 67, 0.3), 0px 1px 3px 1px rgba(60, 64, 67, 0.15);\n",
              "      fill: #174EA6;\n",
              "    }\n",
              "\n",
              "    .colab-df-buttons div {\n",
              "      margin-bottom: 4px;\n",
              "    }\n",
              "\n",
              "    [theme=dark] .colab-df-convert {\n",
              "      background-color: #3B4455;\n",
              "      fill: #D2E3FC;\n",
              "    }\n",
              "\n",
              "    [theme=dark] .colab-df-convert:hover {\n",
              "      background-color: #434B5C;\n",
              "      box-shadow: 0px 1px 3px 1px rgba(0, 0, 0, 0.15);\n",
              "      filter: drop-shadow(0px 1px 2px rgba(0, 0, 0, 0.3));\n",
              "      fill: #FFFFFF;\n",
              "    }\n",
              "  </style>\n",
              "\n",
              "    <script>\n",
              "      const buttonEl =\n",
              "        document.querySelector('#df-d814b9c1-d58e-4c0f-920f-9e82066ccec1 button.colab-df-convert');\n",
              "      buttonEl.style.display =\n",
              "        google.colab.kernel.accessAllowed ? 'block' : 'none';\n",
              "\n",
              "      async function convertToInteractive(key) {\n",
              "        const element = document.querySelector('#df-d814b9c1-d58e-4c0f-920f-9e82066ccec1');\n",
              "        const dataTable =\n",
              "          await google.colab.kernel.invokeFunction('convertToInteractive',\n",
              "                                                    [key], {});\n",
              "        if (!dataTable) return;\n",
              "\n",
              "        const docLinkHtml = 'Like what you see? Visit the ' +\n",
              "          '<a target=\"_blank\" href=https://colab.research.google.com/notebooks/data_table.ipynb>data table notebook</a>'\n",
              "          + ' to learn more about interactive tables.';\n",
              "        element.innerHTML = '';\n",
              "        dataTable['output_type'] = 'display_data';\n",
              "        await google.colab.output.renderOutput(dataTable, element);\n",
              "        const docLink = document.createElement('div');\n",
              "        docLink.innerHTML = docLinkHtml;\n",
              "        element.appendChild(docLink);\n",
              "      }\n",
              "    </script>\n",
              "  </div>\n",
              "\n",
              "\n",
              "<div id=\"df-39f80b0e-f759-488f-9bd4-ca22f95c7001\">\n",
              "  <button class=\"colab-df-quickchart\" onclick=\"quickchart('df-39f80b0e-f759-488f-9bd4-ca22f95c7001')\"\n",
              "            title=\"Suggest charts\"\n",
              "            style=\"display:none;\">\n",
              "\n",
              "<svg xmlns=\"http://www.w3.org/2000/svg\" height=\"24px\"viewBox=\"0 0 24 24\"\n",
              "     width=\"24px\">\n",
              "    <g>\n",
              "        <path d=\"M19 3H5c-1.1 0-2 .9-2 2v14c0 1.1.9 2 2 2h14c1.1 0 2-.9 2-2V5c0-1.1-.9-2-2-2zM9 17H7v-7h2v7zm4 0h-2V7h2v10zm4 0h-2v-4h2v4z\"/>\n",
              "    </g>\n",
              "</svg>\n",
              "  </button>\n",
              "\n",
              "<style>\n",
              "  .colab-df-quickchart {\n",
              "      --bg-color: #E8F0FE;\n",
              "      --fill-color: #1967D2;\n",
              "      --hover-bg-color: #E2EBFA;\n",
              "      --hover-fill-color: #174EA6;\n",
              "      --disabled-fill-color: #AAA;\n",
              "      --disabled-bg-color: #DDD;\n",
              "  }\n",
              "\n",
              "  [theme=dark] .colab-df-quickchart {\n",
              "      --bg-color: #3B4455;\n",
              "      --fill-color: #D2E3FC;\n",
              "      --hover-bg-color: #434B5C;\n",
              "      --hover-fill-color: #FFFFFF;\n",
              "      --disabled-bg-color: #3B4455;\n",
              "      --disabled-fill-color: #666;\n",
              "  }\n",
              "\n",
              "  .colab-df-quickchart {\n",
              "    background-color: var(--bg-color);\n",
              "    border: none;\n",
              "    border-radius: 50%;\n",
              "    cursor: pointer;\n",
              "    display: none;\n",
              "    fill: var(--fill-color);\n",
              "    height: 32px;\n",
              "    padding: 0;\n",
              "    width: 32px;\n",
              "  }\n",
              "\n",
              "  .colab-df-quickchart:hover {\n",
              "    background-color: var(--hover-bg-color);\n",
              "    box-shadow: 0 1px 2px rgba(60, 64, 67, 0.3), 0 1px 3px 1px rgba(60, 64, 67, 0.15);\n",
              "    fill: var(--button-hover-fill-color);\n",
              "  }\n",
              "\n",
              "  .colab-df-quickchart-complete:disabled,\n",
              "  .colab-df-quickchart-complete:disabled:hover {\n",
              "    background-color: var(--disabled-bg-color);\n",
              "    fill: var(--disabled-fill-color);\n",
              "    box-shadow: none;\n",
              "  }\n",
              "\n",
              "  .colab-df-spinner {\n",
              "    border: 2px solid var(--fill-color);\n",
              "    border-color: transparent;\n",
              "    border-bottom-color: var(--fill-color);\n",
              "    animation:\n",
              "      spin 1s steps(1) infinite;\n",
              "  }\n",
              "\n",
              "  @keyframes spin {\n",
              "    0% {\n",
              "      border-color: transparent;\n",
              "      border-bottom-color: var(--fill-color);\n",
              "      border-left-color: var(--fill-color);\n",
              "    }\n",
              "    20% {\n",
              "      border-color: transparent;\n",
              "      border-left-color: var(--fill-color);\n",
              "      border-top-color: var(--fill-color);\n",
              "    }\n",
              "    30% {\n",
              "      border-color: transparent;\n",
              "      border-left-color: var(--fill-color);\n",
              "      border-top-color: var(--fill-color);\n",
              "      border-right-color: var(--fill-color);\n",
              "    }\n",
              "    40% {\n",
              "      border-color: transparent;\n",
              "      border-right-color: var(--fill-color);\n",
              "      border-top-color: var(--fill-color);\n",
              "    }\n",
              "    60% {\n",
              "      border-color: transparent;\n",
              "      border-right-color: var(--fill-color);\n",
              "    }\n",
              "    80% {\n",
              "      border-color: transparent;\n",
              "      border-right-color: var(--fill-color);\n",
              "      border-bottom-color: var(--fill-color);\n",
              "    }\n",
              "    90% {\n",
              "      border-color: transparent;\n",
              "      border-bottom-color: var(--fill-color);\n",
              "    }\n",
              "  }\n",
              "</style>\n",
              "\n",
              "  <script>\n",
              "    async function quickchart(key) {\n",
              "      const quickchartButtonEl =\n",
              "        document.querySelector('#' + key + ' button');\n",
              "      quickchartButtonEl.disabled = true;  // To prevent multiple clicks.\n",
              "      quickchartButtonEl.classList.add('colab-df-spinner');\n",
              "      try {\n",
              "        const charts = await google.colab.kernel.invokeFunction(\n",
              "            'suggestCharts', [key], {});\n",
              "      } catch (error) {\n",
              "        console.error('Error during call to suggestCharts:', error);\n",
              "      }\n",
              "      quickchartButtonEl.classList.remove('colab-df-spinner');\n",
              "      quickchartButtonEl.classList.add('colab-df-quickchart-complete');\n",
              "    }\n",
              "    (() => {\n",
              "      let quickchartButtonEl =\n",
              "        document.querySelector('#df-39f80b0e-f759-488f-9bd4-ca22f95c7001 button');\n",
              "      quickchartButtonEl.style.display =\n",
              "        google.colab.kernel.accessAllowed ? 'block' : 'none';\n",
              "    })();\n",
              "  </script>\n",
              "</div>\n",
              "\n",
              "    </div>\n",
              "  </div>\n"
            ],
            "application/vnd.google.colaboratory.intrinsic+json": {
              "type": "dataframe",
              "summary": "{\n  \"name\": \"temp_df\",\n  \"rows\": 5,\n  \"fields\": [\n    {\n      \"column\": \"Celsius\",\n      \"properties\": {\n        \"dtype\": \"number\",\n        \"std\": 15,\n        \"min\": 20,\n        \"max\": 60,\n        \"samples\": [\n          30,\n          60,\n          40\n        ],\n        \"num_unique_values\": 5,\n        \"semantic_type\": \"\",\n        \"description\": \"\"\n      }\n    },\n    {\n      \"column\": \"Fahrenheit\",\n      \"properties\": {\n        \"dtype\": \"number\",\n        \"std\": 28.460498941515414,\n        \"min\": 68.0,\n        \"max\": 140.0,\n        \"samples\": [\n          86.0,\n          140.0,\n          104.0\n        ],\n        \"num_unique_values\": 5,\n        \"semantic_type\": \"\",\n        \"description\": \"\"\n      }\n    }\n  ]\n}"
            }
          },
          "metadata": {},
          "execution_count": 18
        }
      ]
    },
    {
      "cell_type": "code",
      "metadata": {
        "id": "srFhCdPgE6oB",
        "colab": {
          "base_uri": "https://localhost:8080/",
          "height": 300
        },
        "outputId": "b25d1b5e-0e43-4096-cfdd-afa1a11f7a21"
      },
      "source": [
        "temp_df.describe() #description about dataset"
      ],
      "execution_count": 19,
      "outputs": [
        {
          "output_type": "execute_result",
          "data": {
            "text/plain": [
              "         Celsius  Fahrenheit\n",
              "count  30.000000   30.000000\n",
              "mean    2.000000   35.600000\n",
              "std    22.780815   41.005466\n",
              "min   -50.000000  -58.000000\n",
              "25%    -6.750000   19.850000\n",
              "50%     0.500000   32.900000\n",
              "75%     7.750000   45.950000\n",
              "max    60.000000  140.000000"
            ],
            "text/html": [
              "\n",
              "  <div id=\"df-c3688c49-720d-498e-b37b-08fb18aa86a9\" class=\"colab-df-container\">\n",
              "    <div>\n",
              "<style scoped>\n",
              "    .dataframe tbody tr th:only-of-type {\n",
              "        vertical-align: middle;\n",
              "    }\n",
              "\n",
              "    .dataframe tbody tr th {\n",
              "        vertical-align: top;\n",
              "    }\n",
              "\n",
              "    .dataframe thead th {\n",
              "        text-align: right;\n",
              "    }\n",
              "</style>\n",
              "<table border=\"1\" class=\"dataframe\">\n",
              "  <thead>\n",
              "    <tr style=\"text-align: right;\">\n",
              "      <th></th>\n",
              "      <th>Celsius</th>\n",
              "      <th>Fahrenheit</th>\n",
              "    </tr>\n",
              "  </thead>\n",
              "  <tbody>\n",
              "    <tr>\n",
              "      <th>count</th>\n",
              "      <td>30.000000</td>\n",
              "      <td>30.000000</td>\n",
              "    </tr>\n",
              "    <tr>\n",
              "      <th>mean</th>\n",
              "      <td>2.000000</td>\n",
              "      <td>35.600000</td>\n",
              "    </tr>\n",
              "    <tr>\n",
              "      <th>std</th>\n",
              "      <td>22.780815</td>\n",
              "      <td>41.005466</td>\n",
              "    </tr>\n",
              "    <tr>\n",
              "      <th>min</th>\n",
              "      <td>-50.000000</td>\n",
              "      <td>-58.000000</td>\n",
              "    </tr>\n",
              "    <tr>\n",
              "      <th>25%</th>\n",
              "      <td>-6.750000</td>\n",
              "      <td>19.850000</td>\n",
              "    </tr>\n",
              "    <tr>\n",
              "      <th>50%</th>\n",
              "      <td>0.500000</td>\n",
              "      <td>32.900000</td>\n",
              "    </tr>\n",
              "    <tr>\n",
              "      <th>75%</th>\n",
              "      <td>7.750000</td>\n",
              "      <td>45.950000</td>\n",
              "    </tr>\n",
              "    <tr>\n",
              "      <th>max</th>\n",
              "      <td>60.000000</td>\n",
              "      <td>140.000000</td>\n",
              "    </tr>\n",
              "  </tbody>\n",
              "</table>\n",
              "</div>\n",
              "    <div class=\"colab-df-buttons\">\n",
              "\n",
              "  <div class=\"colab-df-container\">\n",
              "    <button class=\"colab-df-convert\" onclick=\"convertToInteractive('df-c3688c49-720d-498e-b37b-08fb18aa86a9')\"\n",
              "            title=\"Convert this dataframe to an interactive table.\"\n",
              "            style=\"display:none;\">\n",
              "\n",
              "  <svg xmlns=\"http://www.w3.org/2000/svg\" height=\"24px\" viewBox=\"0 -960 960 960\">\n",
              "    <path d=\"M120-120v-720h720v720H120Zm60-500h600v-160H180v160Zm220 220h160v-160H400v160Zm0 220h160v-160H400v160ZM180-400h160v-160H180v160Zm440 0h160v-160H620v160ZM180-180h160v-160H180v160Zm440 0h160v-160H620v160Z\"/>\n",
              "  </svg>\n",
              "    </button>\n",
              "\n",
              "  <style>\n",
              "    .colab-df-container {\n",
              "      display:flex;\n",
              "      gap: 12px;\n",
              "    }\n",
              "\n",
              "    .colab-df-convert {\n",
              "      background-color: #E8F0FE;\n",
              "      border: none;\n",
              "      border-radius: 50%;\n",
              "      cursor: pointer;\n",
              "      display: none;\n",
              "      fill: #1967D2;\n",
              "      height: 32px;\n",
              "      padding: 0 0 0 0;\n",
              "      width: 32px;\n",
              "    }\n",
              "\n",
              "    .colab-df-convert:hover {\n",
              "      background-color: #E2EBFA;\n",
              "      box-shadow: 0px 1px 2px rgba(60, 64, 67, 0.3), 0px 1px 3px 1px rgba(60, 64, 67, 0.15);\n",
              "      fill: #174EA6;\n",
              "    }\n",
              "\n",
              "    .colab-df-buttons div {\n",
              "      margin-bottom: 4px;\n",
              "    }\n",
              "\n",
              "    [theme=dark] .colab-df-convert {\n",
              "      background-color: #3B4455;\n",
              "      fill: #D2E3FC;\n",
              "    }\n",
              "\n",
              "    [theme=dark] .colab-df-convert:hover {\n",
              "      background-color: #434B5C;\n",
              "      box-shadow: 0px 1px 3px 1px rgba(0, 0, 0, 0.15);\n",
              "      filter: drop-shadow(0px 1px 2px rgba(0, 0, 0, 0.3));\n",
              "      fill: #FFFFFF;\n",
              "    }\n",
              "  </style>\n",
              "\n",
              "    <script>\n",
              "      const buttonEl =\n",
              "        document.querySelector('#df-c3688c49-720d-498e-b37b-08fb18aa86a9 button.colab-df-convert');\n",
              "      buttonEl.style.display =\n",
              "        google.colab.kernel.accessAllowed ? 'block' : 'none';\n",
              "\n",
              "      async function convertToInteractive(key) {\n",
              "        const element = document.querySelector('#df-c3688c49-720d-498e-b37b-08fb18aa86a9');\n",
              "        const dataTable =\n",
              "          await google.colab.kernel.invokeFunction('convertToInteractive',\n",
              "                                                    [key], {});\n",
              "        if (!dataTable) return;\n",
              "\n",
              "        const docLinkHtml = 'Like what you see? Visit the ' +\n",
              "          '<a target=\"_blank\" href=https://colab.research.google.com/notebooks/data_table.ipynb>data table notebook</a>'\n",
              "          + ' to learn more about interactive tables.';\n",
              "        element.innerHTML = '';\n",
              "        dataTable['output_type'] = 'display_data';\n",
              "        await google.colab.output.renderOutput(dataTable, element);\n",
              "        const docLink = document.createElement('div');\n",
              "        docLink.innerHTML = docLinkHtml;\n",
              "        element.appendChild(docLink);\n",
              "      }\n",
              "    </script>\n",
              "  </div>\n",
              "\n",
              "\n",
              "<div id=\"df-3959ee72-9512-47c7-925d-12a82ed7497e\">\n",
              "  <button class=\"colab-df-quickchart\" onclick=\"quickchart('df-3959ee72-9512-47c7-925d-12a82ed7497e')\"\n",
              "            title=\"Suggest charts\"\n",
              "            style=\"display:none;\">\n",
              "\n",
              "<svg xmlns=\"http://www.w3.org/2000/svg\" height=\"24px\"viewBox=\"0 0 24 24\"\n",
              "     width=\"24px\">\n",
              "    <g>\n",
              "        <path d=\"M19 3H5c-1.1 0-2 .9-2 2v14c0 1.1.9 2 2 2h14c1.1 0 2-.9 2-2V5c0-1.1-.9-2-2-2zM9 17H7v-7h2v7zm4 0h-2V7h2v10zm4 0h-2v-4h2v4z\"/>\n",
              "    </g>\n",
              "</svg>\n",
              "  </button>\n",
              "\n",
              "<style>\n",
              "  .colab-df-quickchart {\n",
              "      --bg-color: #E8F0FE;\n",
              "      --fill-color: #1967D2;\n",
              "      --hover-bg-color: #E2EBFA;\n",
              "      --hover-fill-color: #174EA6;\n",
              "      --disabled-fill-color: #AAA;\n",
              "      --disabled-bg-color: #DDD;\n",
              "  }\n",
              "\n",
              "  [theme=dark] .colab-df-quickchart {\n",
              "      --bg-color: #3B4455;\n",
              "      --fill-color: #D2E3FC;\n",
              "      --hover-bg-color: #434B5C;\n",
              "      --hover-fill-color: #FFFFFF;\n",
              "      --disabled-bg-color: #3B4455;\n",
              "      --disabled-fill-color: #666;\n",
              "  }\n",
              "\n",
              "  .colab-df-quickchart {\n",
              "    background-color: var(--bg-color);\n",
              "    border: none;\n",
              "    border-radius: 50%;\n",
              "    cursor: pointer;\n",
              "    display: none;\n",
              "    fill: var(--fill-color);\n",
              "    height: 32px;\n",
              "    padding: 0;\n",
              "    width: 32px;\n",
              "  }\n",
              "\n",
              "  .colab-df-quickchart:hover {\n",
              "    background-color: var(--hover-bg-color);\n",
              "    box-shadow: 0 1px 2px rgba(60, 64, 67, 0.3), 0 1px 3px 1px rgba(60, 64, 67, 0.15);\n",
              "    fill: var(--button-hover-fill-color);\n",
              "  }\n",
              "\n",
              "  .colab-df-quickchart-complete:disabled,\n",
              "  .colab-df-quickchart-complete:disabled:hover {\n",
              "    background-color: var(--disabled-bg-color);\n",
              "    fill: var(--disabled-fill-color);\n",
              "    box-shadow: none;\n",
              "  }\n",
              "\n",
              "  .colab-df-spinner {\n",
              "    border: 2px solid var(--fill-color);\n",
              "    border-color: transparent;\n",
              "    border-bottom-color: var(--fill-color);\n",
              "    animation:\n",
              "      spin 1s steps(1) infinite;\n",
              "  }\n",
              "\n",
              "  @keyframes spin {\n",
              "    0% {\n",
              "      border-color: transparent;\n",
              "      border-bottom-color: var(--fill-color);\n",
              "      border-left-color: var(--fill-color);\n",
              "    }\n",
              "    20% {\n",
              "      border-color: transparent;\n",
              "      border-left-color: var(--fill-color);\n",
              "      border-top-color: var(--fill-color);\n",
              "    }\n",
              "    30% {\n",
              "      border-color: transparent;\n",
              "      border-left-color: var(--fill-color);\n",
              "      border-top-color: var(--fill-color);\n",
              "      border-right-color: var(--fill-color);\n",
              "    }\n",
              "    40% {\n",
              "      border-color: transparent;\n",
              "      border-right-color: var(--fill-color);\n",
              "      border-top-color: var(--fill-color);\n",
              "    }\n",
              "    60% {\n",
              "      border-color: transparent;\n",
              "      border-right-color: var(--fill-color);\n",
              "    }\n",
              "    80% {\n",
              "      border-color: transparent;\n",
              "      border-right-color: var(--fill-color);\n",
              "      border-bottom-color: var(--fill-color);\n",
              "    }\n",
              "    90% {\n",
              "      border-color: transparent;\n",
              "      border-bottom-color: var(--fill-color);\n",
              "    }\n",
              "  }\n",
              "</style>\n",
              "\n",
              "  <script>\n",
              "    async function quickchart(key) {\n",
              "      const quickchartButtonEl =\n",
              "        document.querySelector('#' + key + ' button');\n",
              "      quickchartButtonEl.disabled = true;  // To prevent multiple clicks.\n",
              "      quickchartButtonEl.classList.add('colab-df-spinner');\n",
              "      try {\n",
              "        const charts = await google.colab.kernel.invokeFunction(\n",
              "            'suggestCharts', [key], {});\n",
              "      } catch (error) {\n",
              "        console.error('Error during call to suggestCharts:', error);\n",
              "      }\n",
              "      quickchartButtonEl.classList.remove('colab-df-spinner');\n",
              "      quickchartButtonEl.classList.add('colab-df-quickchart-complete');\n",
              "    }\n",
              "    (() => {\n",
              "      let quickchartButtonEl =\n",
              "        document.querySelector('#df-3959ee72-9512-47c7-925d-12a82ed7497e button');\n",
              "      quickchartButtonEl.style.display =\n",
              "        google.colab.kernel.accessAllowed ? 'block' : 'none';\n",
              "    })();\n",
              "  </script>\n",
              "</div>\n",
              "\n",
              "    </div>\n",
              "  </div>\n"
            ],
            "application/vnd.google.colaboratory.intrinsic+json": {
              "type": "dataframe",
              "summary": "{\n  \"name\": \"temp_df\",\n  \"rows\": 8,\n  \"fields\": [\n    {\n      \"column\": \"Celsius\",\n      \"properties\": {\n        \"dtype\": \"number\",\n        \"std\": 31.802284774164164,\n        \"min\": -50.0,\n        \"max\": 60.0,\n        \"samples\": [\n          2.0,\n          0.5,\n          30.0\n        ],\n        \"num_unique_values\": 8,\n        \"semantic_type\": \"\",\n        \"description\": \"\"\n      }\n    },\n    {\n      \"column\": \"Fahrenheit\",\n      \"properties\": {\n        \"dtype\": \"number\",\n        \"std\": 53.56249940411794,\n        \"min\": -58.0,\n        \"max\": 140.0,\n        \"samples\": [\n          35.6,\n          32.9,\n          30.0\n        ],\n        \"num_unique_values\": 8,\n        \"semantic_type\": \"\",\n        \"description\": \"\"\n      }\n    }\n  ]\n}"
            }
          },
          "metadata": {},
          "execution_count": 19
        }
      ]
    },
    {
      "cell_type": "code",
      "metadata": {
        "id": "3_-WuhCFFBWO",
        "colab": {
          "base_uri": "https://localhost:8080/"
        },
        "outputId": "1d02f104-b8fb-4070-e648-d77613fb8590"
      },
      "source": [
        "temp_df.info()"
      ],
      "execution_count": 20,
      "outputs": [
        {
          "output_type": "stream",
          "name": "stdout",
          "text": [
            "<class 'pandas.core.frame.DataFrame'>\n",
            "RangeIndex: 30 entries, 0 to 29\n",
            "Data columns (total 2 columns):\n",
            " #   Column      Non-Null Count  Dtype  \n",
            "---  ------      --------------  -----  \n",
            " 0   Celsius     30 non-null     int64  \n",
            " 1   Fahrenheit  30 non-null     float64\n",
            "dtypes: float64(1), int64(1)\n",
            "memory usage: 608.0 bytes\n"
          ]
        }
      ]
    },
    {
      "cell_type": "markdown",
      "metadata": {
        "id": "79W-67WaFnXI"
      },
      "source": [
        "`## STEP #2: Visualization of Dataset`"
      ]
    },
    {
      "cell_type": "code",
      "source": [
        "import seaborn as sns"
      ],
      "metadata": {
        "id": "MuLrBs96Yq2Q"
      },
      "execution_count": 24,
      "outputs": []
    },
    {
      "cell_type": "code",
      "source": [
        "help(sns.scatterplot)"
      ],
      "metadata": {
        "id": "SQx6Jpm7YtZM",
        "outputId": "e8e768b1-4c20-467c-b8a2-f7c99500d3c2",
        "colab": {
          "base_uri": "https://localhost:8080/"
        }
      },
      "execution_count": 25,
      "outputs": [
        {
          "output_type": "stream",
          "name": "stdout",
          "text": [
            "Help on function scatterplot in module seaborn.relational:\n",
            "\n",
            "scatterplot(data=None, *, x=None, y=None, hue=None, size=None, style=None, palette=None, hue_order=None, hue_norm=None, sizes=None, size_order=None, size_norm=None, markers=True, style_order=None, legend='auto', ax=None, **kwargs)\n",
            "    Draw a scatter plot with possibility of several semantic groupings.\n",
            "    \n",
            "    The relationship between `x` and `y` can be shown for different subsets\n",
            "    of the data using the `hue`, `size`, and `style` parameters. These\n",
            "    parameters control what visual semantics are used to identify the different\n",
            "    subsets. It is possible to show up to three dimensions independently by\n",
            "    using all three semantic types, but this style of plot can be hard to\n",
            "    interpret and is often ineffective. Using redundant semantics (i.e. both\n",
            "    `hue` and `style` for the same variable) can be helpful for making\n",
            "    graphics more accessible.\n",
            "    \n",
            "    See the :ref:`tutorial <relational_tutorial>` for more information.\n",
            "    \n",
            "    The default treatment of the `hue` (and to a lesser extent, `size`)\n",
            "    semantic, if present, depends on whether the variable is inferred to\n",
            "    represent \"numeric\" or \"categorical\" data. In particular, numeric variables\n",
            "    are represented with a sequential colormap by default, and the legend\n",
            "    entries show regular \"ticks\" with values that may or may not exist in the\n",
            "    data. This behavior can be controlled through various parameters, as\n",
            "    described and illustrated below.\n",
            "    \n",
            "    Parameters\n",
            "    ----------\n",
            "    data : :class:`pandas.DataFrame`, :class:`numpy.ndarray`, mapping, or sequence\n",
            "        Input data structure. Either a long-form collection of vectors that can be\n",
            "        assigned to named variables or a wide-form dataset that will be internally\n",
            "        reshaped.\n",
            "    x, y : vectors or keys in ``data``\n",
            "        Variables that specify positions on the x and y axes.\n",
            "    hue : vector or key in `data`\n",
            "        Grouping variable that will produce points with different colors.\n",
            "        Can be either categorical or numeric, although color mapping will\n",
            "        behave differently in latter case.\n",
            "    size : vector or key in `data`\n",
            "        Grouping variable that will produce points with different sizes.\n",
            "        Can be either categorical or numeric, although size mapping will\n",
            "        behave differently in latter case.\n",
            "    style : vector or key in `data`\n",
            "        Grouping variable that will produce points with different markers.\n",
            "        Can have a numeric dtype but will always be treated as categorical.\n",
            "    palette : string, list, dict, or :class:`matplotlib.colors.Colormap`\n",
            "        Method for choosing the colors to use when mapping the ``hue`` semantic.\n",
            "        String values are passed to :func:`color_palette`. List or dict values\n",
            "        imply categorical mapping, while a colormap object implies numeric mapping.\n",
            "    hue_order : vector of strings\n",
            "        Specify the order of processing and plotting for categorical levels of the\n",
            "        ``hue`` semantic.\n",
            "    hue_norm : tuple or :class:`matplotlib.colors.Normalize`\n",
            "        Either a pair of values that set the normalization range in data units\n",
            "        or an object that will map from data units into a [0, 1] interval. Usage\n",
            "        implies numeric mapping.\n",
            "    sizes : list, dict, or tuple\n",
            "        An object that determines how sizes are chosen when `size` is used.\n",
            "        List or dict arguments should provide a size for each unique data value,\n",
            "        which forces a categorical interpretation. The argument may also be a\n",
            "        min, max tuple.\n",
            "    size_order : list\n",
            "        Specified order for appearance of the `size` variable levels,\n",
            "        otherwise they are determined from the data. Not relevant when the\n",
            "        `size` variable is numeric.\n",
            "    size_norm : tuple or Normalize object\n",
            "        Normalization in data units for scaling plot objects when the\n",
            "        `size` variable is numeric.\n",
            "    markers : boolean, list, or dictionary\n",
            "        Object determining how to draw the markers for different levels of the\n",
            "        `style` variable. Setting to `True` will use default markers, or\n",
            "        you can pass a list of markers or a dictionary mapping levels of the\n",
            "        `style` variable to markers. Setting to `False` will draw\n",
            "        marker-less lines.  Markers are specified as in matplotlib.\n",
            "    style_order : list\n",
            "        Specified order for appearance of the `style` variable levels\n",
            "        otherwise they are determined from the data. Not relevant when the\n",
            "        `style` variable is numeric.\n",
            "    legend : \"auto\", \"brief\", \"full\", or False\n",
            "        How to draw the legend. If \"brief\", numeric `hue` and `size`\n",
            "        variables will be represented with a sample of evenly spaced values.\n",
            "        If \"full\", every group will get an entry in the legend. If \"auto\",\n",
            "        choose between brief or full representation based on number of levels.\n",
            "        If `False`, no legend data is added and no legend is drawn.\n",
            "    ax : :class:`matplotlib.axes.Axes`\n",
            "        Pre-existing axes for the plot. Otherwise, call :func:`matplotlib.pyplot.gca`\n",
            "        internally.\n",
            "    kwargs : key, value mappings\n",
            "        Other keyword arguments are passed down to\n",
            "        :meth:`matplotlib.axes.Axes.scatter`.\n",
            "    \n",
            "    Returns\n",
            "    -------\n",
            "    :class:`matplotlib.axes.Axes`\n",
            "        The matplotlib axes containing the plot.\n",
            "    \n",
            "    See Also\n",
            "    --------\n",
            "    lineplot : Plot data using lines.\n",
            "    stripplot : Plot a categorical scatter with jitter.\n",
            "    swarmplot : Plot a categorical scatter with non-overlapping points.\n",
            "    \n",
            "    Examples\n",
            "    --------\n",
            "    \n",
            "    .. include:: ../docstrings/scatterplot.rst\n",
            "\n"
          ]
        }
      ]
    },
    {
      "cell_type": "code",
      "source": [
        "sns.scatterplot(x=\"Celsius\", y=\"Fahrenheit\", data=temp_df)"
      ],
      "metadata": {
        "id": "mGD73rHsYv4D",
        "outputId": "c74badad-6e42-4043-c5da-6adfb146ff63",
        "colab": {
          "base_uri": "https://localhost:8080/",
          "height": 467
        }
      },
      "execution_count": 27,
      "outputs": [
        {
          "output_type": "execute_result",
          "data": {
            "text/plain": [
              "<Axes: xlabel='Celsius', ylabel='Fahrenheit'>"
            ]
          },
          "metadata": {},
          "execution_count": 27
        },
        {
          "output_type": "display_data",
          "data": {
            "text/plain": [
              "<Figure size 640x480 with 1 Axes>"
            ],
            "image/png": "[encoded data removed]"
          },
          "metadata": {}
        }
      ]
    },
    {
      "cell_type": "code",
      "metadata": {
        "id": "38j_cYte5nVq",
        "colab": {
          "base_uri": "https://localhost:8080/",
          "height": 531
        },
        "outputId": "91f12648-9706-4207-b08a-c5f82062f7a5"
      },
      "source": [
        "import seaborn as sns\n",
        "sns.pairplot(temp_df)"
      ],
      "execution_count": 28,
      "outputs": [
        {
          "output_type": "execute_result",
          "data": {
            "text/plain": [
              "<seaborn.axisgrid.PairGrid at 0x7df7a0905480>"
            ]
          },
          "metadata": {},
          "execution_count": 28
        },
        {
          "output_type": "display_data",
          "data": {
            "text/plain": [
              "<Figure size 500x500 with 6 Axes>"
            ],
            "image/png": "[encoded data removed]"
          },
          "metadata": {}
        }
      ]
    },
    {
      "cell_type": "markdown",
      "metadata": {
        "id": "X8Fg940rGEUb"
      },
      "source": [
        "## STEP #3: Creating Training & Testing Dataset"
      ]
    },
    {
      "cell_type": "code",
      "metadata": {
        "id": "q06xPfhmF6Wq"
      },
      "source": [
        "X_train = temp_df['Celsius']\n",
        "y_train = temp_df['Fahrenheit']"
      ],
      "execution_count": 29,
      "outputs": []
    },
    {
      "cell_type": "markdown",
      "metadata": {
        "id": "LSkF2APRGxpN"
      },
      "source": [
        "## STEP #4: Build & Train the Model"
      ]
    },
    {
      "cell_type": "code",
      "metadata": {
        "id": "R9fLwFNxGw-o",
        "colab": {
          "base_uri": "https://localhost:8080/"
        },
        "outputId": "a79e6ade-9578-401f-8050-a0b670b24b36"
      },
      "source": [
        "X_train.shape"
      ],
      "execution_count": 30,
      "outputs": [
        {
          "output_type": "execute_result",
          "data": {
            "text/plain": [
              "(30,)"
            ]
          },
          "metadata": {},
          "execution_count": 30
        }
      ]
    },
    {
      "cell_type": "code",
      "metadata": {
        "id": "uJh68ZGCGopj",
        "colab": {
          "base_uri": "https://localhost:8080/"
        },
        "outputId": "d373b577-e4ae-45bd-9488-d5da5ab52f64"
      },
      "source": [
        "y_train.shape"
      ],
      "execution_count": 31,
      "outputs": [
        {
          "output_type": "execute_result",
          "data": {
            "text/plain": [
              "(30,)"
            ]
          },
          "metadata": {},
          "execution_count": 31
        }
      ]
    },
    {
      "cell_type": "code",
      "metadata": {
        "id": "V2qhxbxxG-80"
      },
      "source": [
        "# in tensorflow 2.0, keras API come automatically with tensorflow 2.0\n",
        "model = tf.keras.Sequential()\n",
        "model.add(tf.keras.layers.Dense(units= 32 , input_shape = (1,)))\n",
        "#Dense when we have fully connected atificial neural network\n",
        "# now we are adding one more layer to the network\n",
        "model.add(tf.keras.layers.Dense(units = 32))\n",
        "# now adding the output layer\n",
        "model.add(tf.keras.layers.Dense(units = 1))"
      ],
      "execution_count": 33,
      "outputs": []
    },
    {
      "cell_type": "code",
      "metadata": {
        "id": "MS5BObu7HocD",
        "colab": {
          "base_uri": "https://localhost:8080/"
        },
        "outputId": "77363bf2-a453-4f57-bfb3-cb69ff66f701"
      },
      "source": [
        "model.summary()"
      ],
      "execution_count": 34,
      "outputs": [
        {
          "output_type": "stream",
          "name": "stdout",
          "text": [
            "Model: \"sequential\"\n",
            "_________________________________________________________________\n",
            " Layer (type)                Output Shape              Param #   \n",
            "=================================================================\n",
            " dense (Dense)               (None, 32)                64        \n",
            "                                                                 \n",
            " dense_1 (Dense)             (None, 32)                1056      \n",
            "                                                                 \n",
            " dense_2 (Dense)             (None, 1)                 33        \n",
            "                                                                 \n",
            "=================================================================\n",
            "Total params: 1153 (4.50 KB)\n",
            "Trainable params: 1153 (4.50 KB)\n",
            "Non-trainable params: 0 (0.00 Byte)\n",
            "_________________________________________________________________\n"
          ]
        }
      ]
    },
    {
      "cell_type": "code",
      "metadata": {
        "id": "GH7sXWvvHrHQ"
      },
      "source": [
        "model.compile(optimizer= tf.keras.optimizers.Adam(1), loss = 'mean_squared_error')"
      ],
      "execution_count": 35,
      "outputs": []
    },
    {
      "cell_type": "code",
      "metadata": {
        "id": "J4WdGQiFIMUc",
        "colab": {
          "base_uri": "https://localhost:8080/"
        },
        "outputId": "ea0dc86e-9cdb-44e9-cedb-551dcc52d6ca"
      },
      "source": [
        "epochs_hist = model.fit(X_train, y_train, epochs=30, validation_split = 0.2)"
      ],
      "execution_count": 36,
      "outputs": [
        {
          "output_type": "stream",
          "name": "stdout",
          "text": [
            "Epoch 1/30\n",
            "1/1 [==============================] - 1s 1s/step - loss: 1106.9066 - val_loss: 20275850.0000\n",
            "Epoch 2/30\n",
            "1/1 [==============================] - 0s 39ms/step - loss: 3256163.2500 - val_loss: 356186720.0000\n",
            "Epoch 3/30\n",
            "1/1 [==============================] - 0s 39ms/step - loss: 46473644.0000 - val_loss: 233039568.0000\n",
            "Epoch 4/30\n",
            "1/1 [==============================] - 0s 40ms/step - loss: 49819476.0000 - val_loss: 16319652.0000\n",
            "Epoch 5/30\n",
            "1/1 [==============================] - 0s 43ms/step - loss: 2706870.2500 - val_loss: 8254797.5000\n",
            "Epoch 6/30\n",
            "1/1 [==============================] - 0s 41ms/step - loss: 2012569.0000 - val_loss: 523415.7812\n",
            "Epoch 7/30\n",
            "1/1 [==============================] - 0s 42ms/step - loss: 137886.3594 - val_loss: 168414704.0000\n",
            "Epoch 8/30\n",
            "1/1 [==============================] - 0s 63ms/step - loss: 35336744.0000 - val_loss: 805401.5625\n",
            "Epoch 9/30\n",
            "1/1 [==============================] - 0s 48ms/step - loss: 205429.8281 - val_loss: 234827696.0000\n",
            "Epoch 10/30\n",
            "1/1 [==============================] - 0s 43ms/step - loss: 46432928.0000 - val_loss: 5227626.0000\n",
            "Epoch 11/30\n",
            "1/1 [==============================] - 0s 40ms/step - loss: 1215794.5000 - val_loss: 125065096.0000\n",
            "Epoch 12/30\n",
            "1/1 [==============================] - 0s 41ms/step - loss: 25966022.0000 - val_loss: 46976620.0000\n",
            "Epoch 13/30\n",
            "1/1 [==============================] - 0s 39ms/step - loss: 9978961.0000 - val_loss: 861173.0000\n",
            "Epoch 14/30\n",
            "1/1 [==============================] - 0s 47ms/step - loss: 242130.2031 - val_loss: 6136054.5000\n",
            "Epoch 15/30\n",
            "1/1 [==============================] - 0s 42ms/step - loss: 1132047.2500 - val_loss: 12171933.0000\n",
            "Epoch 16/30\n",
            "1/1 [==============================] - 0s 42ms/step - loss: 2375256.0000 - val_loss: 8777107.0000\n",
            "Epoch 17/30\n",
            "1/1 [==============================] - 0s 45ms/step - loss: 1762178.6250 - val_loss: 3154405.7500\n",
            "Epoch 18/30\n",
            "1/1 [==============================] - 0s 45ms/step - loss: 661238.6875 - val_loss: 301810.8438\n",
            "Epoch 19/30\n",
            "1/1 [==============================] - 0s 40ms/step - loss: 75204.5469 - val_loss: 169353.1719\n",
            "Epoch 20/30\n",
            "1/1 [==============================] - 0s 39ms/step - loss: 25225.6309 - val_loss: 992901.0000\n",
            "Epoch 21/30\n",
            "1/1 [==============================] - 0s 40ms/step - loss: 182062.9219 - val_loss: 1390706.1250\n",
            "Epoch 22/30\n",
            "1/1 [==============================] - 0s 40ms/step - loss: 274677.5312 - val_loss: 924586.7500\n",
            "Epoch 23/30\n",
            "1/1 [==============================] - 0s 43ms/step - loss: 203025.2031 - val_loss: 135996.2500\n",
            "Epoch 24/30\n",
            "1/1 [==============================] - 0s 40ms/step - loss: 48541.6250 - val_loss: 283978.5312\n",
            "Epoch 25/30\n",
            "1/1 [==============================] - 0s 39ms/step - loss: 30466.4062 - val_loss: 2484475.0000\n",
            "Epoch 26/30\n",
            "1/1 [==============================] - 0s 41ms/step - loss: 355994.0312 - val_loss: 6098242.0000\n",
            "Epoch 27/30\n",
            "1/1 [==============================] - 0s 46ms/step - loss: 934559.0625 - val_loss: 7941937.5000\n",
            "Epoch 28/30\n",
            "1/1 [==============================] - 0s 45ms/step - loss: 1230623.1250 - val_loss: 5436529.0000\n",
            "Epoch 29/30\n",
            "1/1 [==============================] - 0s 41ms/step - loss: 809976.0000 - val_loss: 1125247.8750\n",
            "Epoch 30/30\n",
            "1/1 [==============================] - 0s 41ms/step - loss: 134179.4844 - val_loss: 310089.3438\n"
          ]
        }
      ]
    },
    {
      "cell_type": "code",
      "metadata": {
        "id": "I039pt4cIY0S"
      },
      "source": [],
      "execution_count": 36,
      "outputs": []
    },
    {
      "cell_type": "markdown",
      "metadata": {
        "id": "lmFTFUOsJhMo"
      },
      "source": [
        "## STEP #5: Evaluating the Model"
      ]
    },
    {
      "cell_type": "code",
      "metadata": {
        "id": "dZDPCnVDJmGc",
        "colab": {
          "base_uri": "https://localhost:8080/"
        },
        "outputId": "c6b5140e-bea3-48c8-92f0-9305101fd7b6"
      },
      "source": [
        "epochs_hist.history.keys()"
      ],
      "execution_count": 37,
      "outputs": [
        {
          "output_type": "execute_result",
          "data": {
            "text/plain": [
              "dict_keys(['loss', 'val_loss'])"
            ]
          },
          "metadata": {},
          "execution_count": 37
        }
      ]
    },
    {
      "cell_type": "code",
      "metadata": {
        "id": "uv53Sz-DJu1i",
        "colab": {
          "base_uri": "https://localhost:8080/",
          "height": 472
        },
        "outputId": "241bae40-d629-4adc-a3ce-1bc1edc578c4"
      },
      "source": [
        "plt.plot(epochs_hist.history['loss'], color='green', label='Training loss')\n",
        "plt.title('Model loss Progress during training')\n",
        "plt.xlabel('Epochs')\n",
        "plt.ylabel('Training loss')\n",
        "plt.legend('Training loss')\n",
        "plt.show()"
      ],
      "execution_count": 38,
      "outputs": [
        {
          "output_type": "display_data",
          "data": {
            "text/plain": [
              "<Figure size 640x480 with 1 Axes>"
            ],
            "image/png": "[encoded data removed]"
          },
          "metadata": {}
        }
      ]
    },
    {
      "cell_type": "code",
      "metadata": {
        "id": "kphkLYoc6EWy",
        "colab": {
          "base_uri": "https://localhost:8080/",
          "height": 490
        },
        "outputId": "d5809b49-0ce1-4cac-aa1d-36d7df471929"
      },
      "source": [
        "plt.plot(epochs_hist.history['loss'], color='green', label='Training loss')\n",
        "plt.plot(epochs_hist.history['val_loss'], color='red', label='Validation loss')\n",
        "\n",
        "plt.title('Model loss progress during training the model')\n",
        "plt.xlabel('Epochs')\n",
        "plt.ylabel('Training loss')"
      ],
      "execution_count": 39,
      "outputs": [
        {
          "output_type": "execute_result",
          "data": {
            "text/plain": [
              "Text(0, 0.5, 'Training loss')"
            ]
          },
          "metadata": {},
          "execution_count": 39
        },
        {
          "output_type": "display_data",
          "data": {
            "text/plain": [
              "<Figure size 640x480 with 1 Axes>"
            ],
            "image/png": "[encoded data removed]"
          },
          "metadata": {}
        }
      ]
    },
    {
      "cell_type": "code",
      "metadata": {
        "id": "D_gbRS4lJ3pq",
        "colab": {
          "base_uri": "https://localhost:8080/"
        },
        "outputId": "cfd14e64-c054-4792-963d-74a6a1c697be"
      },
      "source": [
        "model.get_weights()"
      ],
      "execution_count": 40,
      "outputs": [
        {
          "output_type": "execute_result",
          "data": {
            "text/plain": [
              "[array([[-0.8217672 ,  0.8508674 ,  0.64708024,  0.71692824,  0.89967054,\n",
              "         -0.50948435, -0.8473475 ,  0.55751526, -0.5495144 ,  0.511642  ,\n",
              "         -0.72611713,  0.9219628 ,  0.860371  ,  0.62863815, -0.5556762 ,\n",
              "          0.6792729 ,  0.47470573,  0.92612934, -0.84189874, -0.8951163 ,\n",
              "          0.79087555, -0.8745552 ,  0.9107962 , -0.4771286 , -0.9057126 ,\n",
              "          0.33902302, -0.6875871 , -0.913801  ,  0.33846328, -0.5351141 ,\n",
              "         -0.61486256, -0.8775607 ]], dtype=float32),\n",
              " array([ 1.1564866 ,  0.14642246, -1.1165519 , -1.0814714 , -0.22908932,\n",
              "         0.64641   ,  1.1803637 , -0.72100776,  0.6895281 , -0.58415985,\n",
              "         1.0066831 , -0.09778333,  0.10570555, -1.0470438 ,  0.6545478 ,\n",
              "        -1.0189749 , -0.48674095, -0.2354752 ,  0.22888626, -0.08244918,\n",
              "         0.18947306, -0.03585168,  0.13874139,  0.8018647 , -0.16133025,\n",
              "        -0.3202385 ,  1.0890028 , -0.21535678, -0.31642967,  0.6276039 ,\n",
              "         0.8156808 ,  0.22223231], dtype=float32),\n",
              " array([[ 1.1050878 ,  0.5576003 , -0.22705022, ...,  0.73546296,\n",
              "          2.385888  , -1.8032296 ],\n",
              "        [-0.31948066,  0.5601769 , -1.1710557 , ...,  0.0177727 ,\n",
              "         -0.68168974,  0.06679933],\n",
              "        [-0.20262869, -0.08019642, -0.09426045, ..., -0.8503544 ,\n",
              "         -1.6127796 ,  1.4253776 ],\n",
              "        ...,\n",
              "        [ 1.0074453 ,  0.42116922, -0.24965383, ...,  1.4757078 ,\n",
              "          2.440776  , -2.2387125 ],\n",
              "        [ 0.97206664, -0.0539712 , -0.24026999, ...,  0.9689623 ,\n",
              "          2.3416767 , -2.049177  ],\n",
              "        [ 0.5520998 , -1.2090958 ,  1.4732574 , ...,  0.35175955,\n",
              "          0.7192289 , -0.39376518]], dtype=float32),\n",
              " array([-0.6848368 ,  1.7222248 , -2.1980536 ,  1.9007405 , -1.0345594 ,\n",
              "         1.832308  ,  1.2751935 ,  1.7702417 ,  1.4094162 , -1.8451853 ,\n",
              "         1.8083992 ,  1.5052229 , -2.5297596 , -1.731868  ,  1.5842745 ,\n",
              "         1.7838899 ,  1.4062167 ,  1.508986  ,  1.7728727 , -1.6841983 ,\n",
              "         2.0838451 ,  0.85742414,  1.9153383 ,  1.5615342 , -2.4882874 ,\n",
              "         1.4446957 , -1.356695  , -1.7513988 , -2.1821992 , -1.1630169 ,\n",
              "        -1.7985187 ,  1.8101492 ], dtype=float32),\n",
              " array([[-0.04910357],\n",
              "        [-0.62678987],\n",
              "        [ 0.51163703],\n",
              "        [ 0.26290777],\n",
              "        [ 0.6527783 ],\n",
              "        [-0.56718516],\n",
              "        [-0.09301394],\n",
              "        [ 0.28878468],\n",
              "        [-0.12989384],\n",
              "        [-0.2671285 ],\n",
              "        [ 0.24555874],\n",
              "        [-0.51205623],\n",
              "        [ 0.4670714 ],\n",
              "        [-0.5859511 ],\n",
              "        [-0.46809313],\n",
              "        [-0.47447792],\n",
              "        [ 0.15947776],\n",
              "        [-0.07270764],\n",
              "        [ 0.21618764],\n",
              "        [-0.23240751],\n",
              "        [-0.37750596],\n",
              "        [-0.08293656],\n",
              "        [-0.58633363],\n",
              "        [-0.53934026],\n",
              "        [ 0.5125032 ],\n",
              "        [-0.5108898 ],\n",
              "        [-0.20066762],\n",
              "        [ 0.5960295 ],\n",
              "        [ 0.44828117],\n",
              "        [ 0.21710733],\n",
              "        [-0.33284432],\n",
              "        [ 0.07777742]], dtype=float32),\n",
              " array([6.199656], dtype=float32)]"
            ]
          },
          "metadata": {},
          "execution_count": 40
        }
      ]
    },
    {
      "cell_type": "code",
      "metadata": {
        "id": "yBgd4NQJKzU3",
        "colab": {
          "base_uri": "https://localhost:8080/"
        },
        "outputId": "b4871a56-df9b-4151-bd33-6a4eb9b7226d"
      },
      "source": [
        "# Use the same model to perform predictions\n",
        "Temp_C = 12\n",
        "Temp_F = model.predict([Temp_C])\n",
        "print('Temprature in Fahrenheit using simple ANN=', Temp_F)"
      ],
      "execution_count": 41,
      "outputs": [
        {
          "output_type": "stream",
          "name": "stdout",
          "text": [
            "1/1 [==============================] - 0s 103ms/step\n",
            "Temprature in Fahrenheit using simple ANN= [[119.01487]]\n"
          ]
        }
      ]
    },
    {
      "cell_type": "code",
      "metadata": {
        "id": "xT7qFFZDLL-6",
        "colab": {
          "base_uri": "https://localhost:8080/"
        },
        "outputId": "637a44f0-fb32-4f36-e055-231cba662570"
      },
      "source": [
        "# Lets confirm with the equation\n",
        "Temp_F = 9/5 * Temp_C + 32\n",
        "print('Temprature in Fahrenheit using normal equation=', Temp_F)"
      ],
      "execution_count": 42,
      "outputs": [
        {
          "output_type": "stream",
          "name": "stdout",
          "text": [
            "Temprature in Fahrenheit using normal equation= 53.6\n"
          ]
        }
      ]
    },
    {
      "cell_type": "code",
      "metadata": {
        "id": "F4XfEAe5LXfU"
      },
      "source": [],
      "execution_count": null,
      "outputs": []
    }
  ]
}